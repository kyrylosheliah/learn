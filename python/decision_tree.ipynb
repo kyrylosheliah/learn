{
 "cells": [
  {
   "cell_type": "code",
   "execution_count": 1,
   "id": "b064bb80-3f38-46f1-9fdb-25cb9cc97fb3",
   "metadata": {
    "tags": []
   },
   "outputs": [],
   "source": [
    "%reset -f"
   ]
  },
  {
   "cell_type": "code",
   "execution_count": 2,
   "id": "ca03e173-6341-4116-9988-22a6131bb2d7",
   "metadata": {
    "tags": []
   },
   "outputs": [],
   "source": [
    "import numpy as np\n",
    "import pandas as pd\n",
    "import seaborn as sns\n",
    "sns.set()\n",
    "from matplotlib import pyplot as plt\n",
    "from sklearn.manifold import TSNE\n",
    "from sklearn.preprocessing import MinMaxScaler"
   ]
  },
  {
   "cell_type": "code",
   "execution_count": 3,
   "id": "8fbf6c7d-870b-457f-a465-701d5a32b678",
   "metadata": {
    "tags": []
   },
   "outputs": [],
   "source": [
    "df = pd.read_csv(\"./land_mines.csv\")\n",
    "# min_max_scaler = MinMaxScaler()\n",
    "# df[[\"S\", \"M\"]] = min_max_scaler.fit_transform(df[[\"S\", \"M\"]])\n",
    "X = df.drop([\"M\"], axis=1)\n",
    "y = df.M\n",
    "tsne_features = TSNE().fit_transform(X)\n",
    "df[\"x\"] = tsne_features[:,0]\n",
    "df[\"y\"] = tsne_features[:,1]"
   ]
  },
  {
   "cell_type": "code",
   "execution_count": null,
   "id": "8c5f9249-7363-4f51-be69-8bde4245012c",
   "metadata": {
    "tags": []
   },
   "outputs": [],
   "source": [
    "plt.figure(figsize=(6,4))\n",
    "xx=np.linspace(0,1,50)\n",
    "plt.plot(xx, [2*x*(1-x) for x in xx], label='gini')\n",
    "plt.plot(xx, [4*x*(1-x) for x in xx], label='2*gini')\n",
    "plt.plot(xx, [-x*np.log2(x) - (1-x) * np.log2(1-x) for x in xx], label='entropy')\n",
    "plt.plot(xx, [1 - max(x,1-x) for x in xx], label='missclass')\n",
    "plt.plot(xx, [2 - 2 * max(x,1-x) for x in xx], label='2*missclass')\n",
    "plt.xlabel('p+')\n",
    "plt.ylabel('criterion')\n",
    "plt.title('criteria of quality as a function of p+ (binary classification)')\n",
    "plt.legend()"
   ]
  },
  {
   "cell_type": "code",
   "execution_count": 5,
   "id": "99b52652-0c34-42c8-9fae-368d065bba4a",
   "metadata": {
    "tags": []
   },
   "outputs": [],
   "source": [
    "soil_labels = [\"Dry and Sandy\",\n",
    "               \"Dry and Humus\",\n",
    "               \"Dry and Limy\",\n",
    "               \"Humid and Sandy\",\n",
    "               \"Humid and Humus\",\n",
    "               \"Humid and Limy\"]\n",
    "mine_labels = [\"Null\",\n",
    "               \"Anti-tank\",\n",
    "               \"Anti-personnel\",\n",
    "               \"Booby Trapped Anti-personnel\",\n",
    "               \"M14 Anti-personnel\"]\n",
    "train_colors = [\"w\",\n",
    "                \"r\",\n",
    "                \"g\",\n",
    "                \"b\",\n",
    "                \"y\",\n",
    "                \"p\"]\n",
    "\n",
    "#mine_vals = [0.0, 0.25, 0.5, 0.75, 1.0]\n",
    "#soil_vals = [0.0, 0.2, 0.4, 0.6, 0.8, 1.0]\n",
    "mine_vals = [1,2,3,4,5]\n",
    "soil_vals = [1,2,3,4,5,6]\n",
    "mine_classes = list(map(lambda value: df[np.isclose(df[\"M\"], value)], mine_vals))\n",
    "soil_classes = list(map(lambda value: df[np.isclose(df[\"S\"], value)], soil_vals))\n",
    "x_y_values_transpose = lambda dataframe: dataframe[[\"x\", \"y\"]].values.transpose()\n",
    "\n",
    "mine_classified_train_data = list(map(\n",
    "    x_y_values_transpose,\n",
    "    mine_classes))\n",
    "\n",
    "soil_classified_train_data = list(map(\n",
    "    lambda dfs: list(map(\n",
    "        x_y_values_transpose,\n",
    "        list(map(lambda value: dfs[dfs[\"M\"] == value], mine_vals)))),\n",
    "    soil_classes))"
   ]
  },
  {
   "cell_type": "code",
   "execution_count": null,
   "id": "9b5cc668-7e6f-4547-b8a6-639be91871b0",
   "metadata": {
    "tags": []
   },
   "outputs": [],
   "source": [
    "plt.figure(figsize=(10,8))\n",
    "for i in range(5):\n",
    "    plt.scatter(mine_classified_train_data[i][0],\n",
    "                mine_classified_train_data[i][1],\n",
    "                c=train_colors[i], s=50, edgecolors='black', linewidth=1.5)"
   ]
  },
  {
   "cell_type": "code",
   "execution_count": null,
   "id": "ad8a8d46-cbd2-4941-8cee-9cf90c7ea570",
   "metadata": {
    "tags": []
   },
   "outputs": [],
   "source": [
    "for j in range(6):\n",
    "    plt.figure(figsize=(10,8))\n",
    "    plt.title(soil_labels[j])\n",
    "    for i in range(5):\n",
    "        plt.scatter(\n",
    "            soil_classified_train_data[j][i][0],\n",
    "            soil_classified_train_data[j][i][1],\n",
    "            c=train_colors[i], s=50, edgecolors='black', linewidth=1.5)"
   ]
  },
  {
   "cell_type": "code",
   "execution_count": 15,
   "id": "35b6dad7-6598-4891-b4be-4f81471b5a4d",
   "metadata": {
    "tags": []
   },
   "outputs": [],
   "source": [
    "from sklearn.tree import export_graphviz\n",
    "from IPython.display import display, SVG\n",
    "from graphviz import Source\n",
    "from sklearn import tree\n",
    "\n",
    "def tree_graph(clf_tree, feature_names):\n",
    "    #tree_str = export_graphviz(clf_tree, feature_names=feature_names, filled=True, out_file=None)\n",
    "    #graph = Source(tree_str)\n",
    "    #display(SVG(graph.pipe(format='svg')))\n",
    "    fig, ax = plt.subplots(figsize=(10, 10))\n",
    "    tree.plot_tree(clf_tree, fontsize=10)\n",
    "    plt.show()\n",
    "\n",
    "from sklearn.tree import DecisionTreeClassifier\n",
    "from sklearn.metrics import accuracy_score\n",
    "\n",
    "def tree_prediction(X_train, y_train, colnames, depth=3):\n",
    "    clf_tree = DecisionTreeClassifier(criterion=\"entropy\", max_depth=depth, random_state=17)\n",
    "    clf_tree.fit(X_train, y_train)\n",
    "    predicted = clf_tree.predict(X_train)\n",
    "    accuracy = accuracy_score(predicted, y_train)\n",
    "    print(f'Accuracy: {accuracy}')\n",
    "    tree_graph(clf_tree, colnames)"
   ]
  },
  {
   "cell_type": "code",
   "execution_count": null,
   "id": "dd12cdbd-ec32-4a72-a624-074d2d63bd5e",
   "metadata": {
    "tags": []
   },
   "outputs": [],
   "source": [
    "tree_prediction(X, y, [\"V\", \"H\", \"S\"], 4)"
   ]
  },
  {
   "cell_type": "code",
   "execution_count": null,
   "id": "f2330efc-d7b4-4577-aabb-833a589d30fc",
   "metadata": {
    "tags": []
   },
   "outputs": [],
   "source": [
    "for i in range(6):\n",
    "    df_soil_separated = df[df[\"S\"]==i+1]\n",
    "    X_soil_separated = df_soil_separated[[\"V\", \"H\"]]\n",
    "    y_soil_separated = df_soil_separated.M\n",
    "    print(soil_labels[i])\n",
    "    tree_prediction(X_soil_separated, y_soil_separated, [\"V\", \"H\"], 5)"
   ]
  },
  {
   "cell_type": "code",
   "execution_count": null,
   "id": "ce4da318-39a5-48b2-9264-5a0e7bb27925",
   "metadata": {},
   "outputs": [],
   "source": []
  }
 ],
 "metadata": {
  "kernelspec": {
   "display_name": "Python 3 (ipykernel)",
   "language": "python",
   "name": "python3"
  },
  "language_info": {
   "codemirror_mode": {
    "name": "ipython",
    "version": 3
   },
   "file_extension": ".py",
   "mimetype": "text/x-python",
   "name": "python",
   "nbconvert_exporter": "python",
   "pygments_lexer": "ipython3",
   "version": "3.11.4"
  }
 },
 "nbformat": 4,
 "nbformat_minor": 5
}
