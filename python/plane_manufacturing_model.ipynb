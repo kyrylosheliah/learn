{
 "cells": [
  {
   "cell_type": "code",
   "execution_count": 10,
   "metadata": {
    "tags": []
   },
   "outputs": [],
   "source": [
    "from datetime import datetime\n",
    "import random\n",
    "random.seed(datetime.now().timestamp())\n",
    "import pandas as pd\n",
    "import matplotlib.pyplot as plt"
   ]
  },
  {
   "cell_type": "code",
   "execution_count": 11,
   "metadata": {
    "tags": []
   },
   "outputs": [],
   "source": [
    "def random_roll():\n",
    "    last_time = datetime.now().timestamp()\n",
    "    while True:\n",
    "        time_now = datetime.now().timestamp()\n",
    "        if last_time != time_now:\n",
    "            random.seed(time_now)\n",
    "            last_time = time_now\n",
    "        else:\n",
    "            random.seed(random.random())\n",
    "        yield random.random()\n",
    "rnd = random_roll()\n",
    "\n",
    "class Model:\n",
    "    def __init__(self, config):\n",
    "        self.config = config\n",
    "        self.time = 1\n",
    "        self.store = []\n",
    "        self.attributes = [\"demand\",\"revenue\",\"variable_expenses\",\"income\",\"taxes\",\"profit\", \"investment\"]\n",
    "    def time_increment(self):\n",
    "        self.time += 1\n",
    "        demand = int(self.config.demand_from + (self.config.demand_range * next(rnd)))\n",
    "        revenue = demand * self.config.price\n",
    "        variable_expenses = revenue * self.config.variable_expenses_coefficient\n",
    "        if self.config.amortization_timespan <= 0:\n",
    "            self.config.amortization = 0\n",
    "        else:\n",
    "            self.config.amortization_timespan -= 1\n",
    "        income = revenue - variable_expenses - self.config.invariant_expenses - self.config.amortization\n",
    "        taxes = income * self.config.tax_coefficient\n",
    "        profit = income - taxes - self.config.amortization\n",
    "        self.config.investment += profit / (1 + self.config.discount_coefficient)**self.time\n",
    "        return [\n",
    "            demand,\n",
    "            revenue,\n",
    "            variable_expenses,\n",
    "            income,\n",
    "            taxes,\n",
    "            profit,\n",
    "            self.config.investment,\n",
    "        ]\n",
    "    def model(self, timespan = 10):\n",
    "        for _ in range(timespan):\n",
    "            #increment = self.time_increment()\n",
    "            #increment.insert(0, self.time)\n",
    "            self.store.append(self.time_increment())\n",
    "        df = pd.DataFrame(self.store, columns=self.attributes)\n",
    "        print(df)\n",
    "        return df\n",
    "\n",
    "class Object:\n",
    "    def __init__(self, **attributes):\n",
    "        self.__dict__.update(attributes)"
   ]
  },
  {
   "cell_type": "code",
   "execution_count": 12,
   "metadata": {
    "tags": []
   },
   "outputs": [
    {
     "name": "stdout",
     "output_type": "stream",
     "text": [
      "    demand  revenue  variable_expenses  income  taxes  profit  investment\n",
      "0        8      352              264.0    57.5  19.55   27.95 -126.900826\n",
      "1       10      440              330.0    79.5  27.03   42.47  -94.992487\n",
      "2       11      484              363.0    90.5  30.77   49.73  -61.026228\n",
      "3        8      352              264.0    57.5  19.55   27.95  -43.671477\n",
      "4       12      528              396.0   111.5  37.91   73.59   -2.131840\n",
      "5       12      528              396.0   111.5  37.91   73.59   35.631466\n",
      "6        8      352              264.0    67.5  22.95   44.55   56.414369\n",
      "7       11      484              363.0   100.5  34.17   66.33   84.544765\n",
      "8       11      484              363.0   100.5  34.17   66.33  110.117851\n",
      "9       10      440              330.0    89.5  30.43   59.07  130.821526\n",
      "10       9      396              297.0    78.5  26.69   51.81  147.329788\n",
      "11      11      484              363.0   100.5  34.17   66.33  166.543227\n",
      "12      11      484              363.0   100.5  34.17   66.33  184.009989\n",
      "13       8      352              264.0    67.5  22.95   44.55  194.674904\n",
      "14       8      352              264.0    67.5  22.95   44.55  204.370282\n",
      "15       9      396              297.0    78.5  26.69   51.81  214.620615\n",
      "16       9      396              297.0    78.5  26.69   51.81  223.939099\n",
      "17       8      352              264.0    67.5  22.95   44.55  231.223380\n",
      "18      10      440              330.0    89.5  30.43   59.07  240.003759\n",
      "19       8      352              264.0    67.5  22.95   44.55  246.023826\n",
      "20       9      396              297.0    78.5  26.69   51.81  252.388476\n",
      "21       9      396              297.0    78.5  26.69   51.81  258.174521\n",
      "22       8      352              264.0    67.5  22.95   44.55  262.697486\n",
      "23      10      440              330.0    89.5  30.43   59.07  268.149411\n",
      "24       9      396              297.0    78.5  26.69   51.81  272.496552\n",
      "25      12      528              396.0   111.5  37.91   73.59  278.109827\n",
      "26      10      440              330.0    89.5  30.43   59.07  282.205939\n",
      "27      12      528              396.0   111.5  37.91   73.59  286.845009\n",
      "28      11      484              363.0   100.5  34.17   66.33  290.646285\n",
      "29      12      528              396.0   111.5  37.91   73.59  294.480228\n"
     ]
    }
   ],
   "source": [
    "config = Object(\n",
    "    demand_from = 8,\n",
    "    demand_range = 5,\n",
    "    investment = -150,\n",
    "    price = 44,\n",
    "    variable_expenses_coefficient = 0.75,\n",
    "    tax_coefficient = 0.34,\n",
    "    invariant_expenses = (11+10)/2+10,\n",
    "    amortization = 10,\n",
    "    amortization_timespan = 4,\n",
    "    discount_coefficient = 0.1,\n",
    ")\n",
    "\n",
    "model = Model(config)\n",
    "df = model.model(30)"
   ]
  },
  {
   "cell_type": "code",
   "execution_count": 8,
   "metadata": {
    "tags": []
   },
   "outputs": [
    {
     "data": {
      "text/html": [
       "<div>\n",
       "<style scoped>\n",
       "    .dataframe tbody tr th:only-of-type {\n",
       "        vertical-align: middle;\n",
       "    }\n",
       "\n",
       "    .dataframe tbody tr th {\n",
       "        vertical-align: top;\n",
       "    }\n",
       "\n",
       "    .dataframe thead th {\n",
       "        text-align: right;\n",
       "    }\n",
       "</style>\n",
       "<table border=\"1\" class=\"dataframe\">\n",
       "  <thead>\n",
       "    <tr style=\"text-align: right;\">\n",
       "      <th></th>\n",
       "      <th>profit</th>\n",
       "    </tr>\n",
       "  </thead>\n",
       "  <tbody>\n",
       "    <tr>\n",
       "      <th>count</th>\n",
       "      <td>30.000000</td>\n",
       "    </tr>\n",
       "    <tr>\n",
       "      <th>mean</th>\n",
       "      <td>57.824667</td>\n",
       "    </tr>\n",
       "    <tr>\n",
       "      <th>std</th>\n",
       "      <td>12.081592</td>\n",
       "    </tr>\n",
       "    <tr>\n",
       "      <th>min</th>\n",
       "      <td>35.210000</td>\n",
       "    </tr>\n",
       "    <tr>\n",
       "      <th>25%</th>\n",
       "      <td>45.845000</td>\n",
       "    </tr>\n",
       "    <tr>\n",
       "      <th>50%</th>\n",
       "      <td>58.030000</td>\n",
       "    </tr>\n",
       "    <tr>\n",
       "      <th>75%</th>\n",
       "      <td>71.775000</td>\n",
       "    </tr>\n",
       "    <tr>\n",
       "      <th>max</th>\n",
       "      <td>73.590000</td>\n",
       "    </tr>\n",
       "  </tbody>\n",
       "</table>\n",
       "</div>"
      ],
      "text/plain": [
       "          profit\n",
       "count  30.000000\n",
       "mean   57.824667\n",
       "std    12.081592\n",
       "min    35.210000\n",
       "25%    45.845000\n",
       "50%    58.030000\n",
       "75%    71.775000\n",
       "max    73.590000"
      ]
     },
     "execution_count": 8,
     "metadata": {},
     "output_type": "execute_result"
    }
   ],
   "source": [
    "df[[\"profit\"]].describe()"
   ]
  },
  {
   "cell_type": "code",
   "execution_count": 9,
   "metadata": {
    "tags": []
   },
   "outputs": [
    {
     "data": {
      "image/png": "[encoded data removed]",
      "text/plain": [
       "<Figure size 640x480 with 1 Axes>"
      ]
     },
     "metadata": {},
     "output_type": "display_data"
    }
   ],
   "source": [
    "hist = df.hist(column=\"profit\")"
   ]
  },
  {
   "cell_type": "code",
   "execution_count": null,
   "metadata": {},
   "outputs": [],
   "source": []
  },
  {
   "cell_type": "code",
   "execution_count": null,
   "metadata": {},
   "outputs": [],
   "source": []
  }
 ],
 "metadata": {
  "kernelspec": {
   "display_name": "Python 3 (ipykernel)",
   "language": "python",
   "name": "python3"
  },
  "language_info": {
   "codemirror_mode": {
    "name": "ipython",
    "version": 3
   },
   "file_extension": ".py",
   "mimetype": "text/x-python",
   "name": "python",
   "nbconvert_exporter": "python",
   "pygments_lexer": "ipython3",
   "version": "3.11.4"
  }
 },
 "nbformat": 4,
 "nbformat_minor": 4
}
