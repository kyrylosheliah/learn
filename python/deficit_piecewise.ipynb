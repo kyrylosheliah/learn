{
 "cells": [
  {
   "cell_type": "code",
   "execution_count": 21,
   "metadata": {},
   "outputs": [],
   "source": [
    "import random\n",
    "from datetime import datetime\n",
    "import pandas as pd"
   ]
  },
  {
   "cell_type": "code",
   "execution_count": 24,
   "metadata": {},
   "outputs": [],
   "source": [
    "def random_roll():\n",
    "    last_time = datetime.now().timestamp()\n",
    "    while True:\n",
    "        time_now = datetime.now().timestamp()\n",
    "        if last_time != time_now:\n",
    "            random.seed(time_now)\n",
    "            last_time = time_now\n",
    "        else:\n",
    "            random.seed(random.random())\n",
    "        yield random.random()\n",
    "rnd = random_roll()\n",
    "\n",
    "class Model:\n",
    "    def __init__(self, config):\n",
    "        self.config = config # вхідні параметри зберігаємо\n",
    "        self.store = []\n",
    "        self.attributes = [\"day\",\"start_stock\",\"number\",\"demand\",\"ordered\",\"replenished\",\"end_stock\"]\n",
    "        self.deficit_days = 0\n",
    "        self.day = 0\n",
    "        self.end_stock = config.start_stock # треба пам'ятати, який запас був учора ввечорі\n",
    "        self.order_days = 0 # лічільник того, скільки днів щоби до запасу надійшло поповнення після замовлення\n",
    "        # перетворимо зважені ймовірності на коефіцієнти (30 -> 0.3)\n",
    "        probabilities = []\n",
    "        w_sum = sum(config.weights)\n",
    "        for w in config.weights:\n",
    "            probabilities.append(w/w_sum)\n",
    "        # додамо акумульовані ймовірності, що вони дорівнюють сумі усіх попередніх ймовірностей\n",
    "        p_accumulator = 0\n",
    "        self.accumulation = []\n",
    "        for p in probabilities:\n",
    "            p_accumulator += p\n",
    "            self.accumulation.append(p_accumulator)\n",
    "    def time_increment(self):\n",
    "        # дії на початку дня\n",
    "        self.day += 1\n",
    "        start_stock = self.end_stock\n",
    "        replenished = 0\n",
    "        ordered = 0\n",
    "        # Надходження замовлення\n",
    "        if self.order_days > 0:\n",
    "            self.order_days -= 1\n",
    "            if self.order_days == 0:\n",
    "                replenished = self.config.replenish_quantity\n",
    "                start_stock += self.config.replenish_quantity\n",
    "        else: # Замовлення немає\n",
    "            # треба розмістити замовлення, якщо запас просів нижче порогу \n",
    "            if start_stock <= self.config.replenish_condition:\n",
    "                self.order_days = self.config.cycle_days\n",
    "                ordered = self.config.replenish_quantity\n",
    "        number = next(rnd)\n",
    "        demand = 0\n",
    "        index = 0\n",
    "        for n in self.accumulation:\n",
    "            if n <= number:\n",
    "                demand = self.config.quantities[index]\n",
    "            index += 1\n",
    "        self.end_stock = start_stock - demand\n",
    "        if self.end_stock < 0:\n",
    "            self.deficit_days += 1\n",
    "        return [\n",
    "            self.day,\n",
    "            start_stock,\n",
    "            number,\n",
    "            demand,\n",
    "            ordered,\n",
    "            replenished,\n",
    "            self.end_stock\n",
    "        ]\n",
    "    def model(self, timespan = 10):\n",
    "        for _ in range(timespan):\n",
    "            self.store.append(self.time_increment())\n",
    "        df = pd.DataFrame(self.store, columns=self.attributes)\n",
    "        print(df)\n",
    "        return(df)\n",
    "\n",
    "class Object:\n",
    "    def __init__(self, **attributes):\n",
    "        self.__dict__.update(attributes)"
   ]
  },
  {
   "cell_type": "code",
   "execution_count": 25,
   "metadata": {
    "scrolled": false
   },
   "outputs": [
    {
     "name": "stdout",
     "output_type": "stream",
     "text": [
      "        day  start_stock    number  demand  ordered  replenished  end_stock\n",
      "0         1           10  0.263194       1        0            0          9\n",
      "1         2            9  0.782346       3        0            0          6\n",
      "2         3            6  0.836466       3        8            0          3\n",
      "3         4            3  0.228903       1        0            0          2\n",
      "4         5           10  0.605386       2        0            8          8\n",
      "...     ...          ...       ...     ...      ...          ...        ...\n",
      "9995   9996            7  0.273253       1        0            0          6\n",
      "9996   9997            6  0.461227       2        8            0          4\n",
      "9997   9998            4  0.470500       2        0            0          2\n",
      "9998   9999           10  0.359141       1        0            8          9\n",
      "9999  10000            9  0.090465       0        0            0          9\n",
      "\n",
      "[10000 rows x 7 columns]\n"
     ]
    }
   ],
   "source": [
    "demand_config = Object(\n",
    "    start_stock = 10,\n",
    "    weights = [10, 30, 30, 20, 5, 5],\n",
    "    quantities = [1, 2, 3, 4, 5, 6],\n",
    "    cycle_days = 2,\n",
    "    replenish_quantity = 8,\n",
    "    replenish_condition = 6\n",
    ")\n",
    "\n",
    "timespan = 10000\n",
    "model = Model(demand_config)\n",
    "df = model.model(timespan)"
   ]
  },
  {
   "cell_type": "code",
   "execution_count": 20,
   "metadata": {},
   "outputs": [
    {
     "name": "stdout",
     "output_type": "stream",
     "text": [
      "667 deficit days out of 10000 days modeled\n",
      "with 6.67% of deficit probability\n"
     ]
    }
   ],
   "source": [
    "print(f\"{model.deficit_days} deficit days out of {timespan} days modeled\")\n",
    "print(f\"with {model.deficit_days/timespan*100}% of deficit probability\")"
   ]
  },
  {
   "cell_type": "code",
   "execution_count": null,
   "metadata": {},
   "outputs": [],
   "source": []
  }
 ],
 "metadata": {
  "kernelspec": {
   "display_name": "Python 3 (ipykernel)",
   "language": "python",
   "name": "python3"
  },
  "language_info": {
   "codemirror_mode": {
    "name": "ipython",
    "version": 3
   },
   "file_extension": ".py",
   "mimetype": "text/x-python",
   "name": "python",
   "nbconvert_exporter": "python",
   "pygments_lexer": "ipython3",
   "version": "3.11.4"
  }
 },
 "nbformat": 4,
 "nbformat_minor": 2
}
