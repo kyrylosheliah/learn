{
 "cells": [
  {
   "cell_type": "code",
   "execution_count": 35,
   "metadata": {},
   "outputs": [],
   "source": [
    "import random\n",
    "from datetime import datetime\n",
    "import pandas as pd"
   ]
  },
  {
   "cell_type": "code",
   "execution_count": 36,
   "metadata": {},
   "outputs": [],
   "source": [
    "def random_roll():\n",
    "    last_time = datetime.now().timestamp()\n",
    "    while True:\n",
    "        time_now = datetime.now().timestamp()\n",
    "        if last_time != time_now:\n",
    "            random.seed(time_now)\n",
    "            last_time = time_now\n",
    "        else:\n",
    "            random.seed(random.random())\n",
    "        yield random.random()\n",
    "rnd = random_roll()\n",
    "\n",
    "class Model:\n",
    "    def __init__(self, config):\n",
    "        self.config = config # вхідні параметри зберігаємо\n",
    "        self.profit = config.profit # прибуток витягуємо, але можна і писати поверх вхідного значення\n",
    "        self.store = []\n",
    "        self.attributes = [\"day\",\"start_stock\",\"number\",\"demand\",\"ordered\",\"replenished\",\"end_stock\", \"profit\"]\n",
    "        self.deficit_days = 0\n",
    "        self.day = 0\n",
    "        self.end_stock = config.start_stock # треба пам'ятати, який запас був учора ввечорі\n",
    "        self.order_days = 0 # лічільник того, скільки днів щоби до запасу надійшло поповнення після замовлення\n",
    "        # перетворимо зважені ймовірності на коефіцієнти (30 -> 0.3)\n",
    "        probabilities = []\n",
    "        w_sum = sum(config.weights)\n",
    "        for w in config.weights:\n",
    "            probabilities.append(w/w_sum)\n",
    "        # додамо акумульовані ймовірності, що вони дорівнюють сумі усіх попередніх ймовірностей\n",
    "        p_accumulator = 0\n",
    "        self.accumulation = []\n",
    "        for p in probabilities:\n",
    "            p_accumulator += p\n",
    "            self.accumulation.append(p_accumulator)\n",
    "    def time_increment(self):\n",
    "        # дії на початку дня\n",
    "        self.day += 1\n",
    "        start_stock = self.end_stock\n",
    "        replenished = 0\n",
    "        ordered = 0\n",
    "        # Надходження замовлення\n",
    "        if self.order_days > 0:\n",
    "            self.order_days -= 1\n",
    "            if self.order_days == 0:\n",
    "                replenished = self.config.replenish_quantity\n",
    "                start_stock += self.config.replenish_quantity\n",
    "        else: # Замовлення немає\n",
    "            # треба розмістити замовлення, якщо запас просів нижче порогу \n",
    "            if start_stock <= self.config.replenish_condition:\n",
    "                self.order_days = self.config.cycle_days\n",
    "                ordered = self.config.replenish_quantity\n",
    "                # відраховуємо вартість замовлення з загального бюджету\n",
    "                self.profit -= self.config.replenish_expense + self.config.replenish_price * self.config.replenish_quantity\n",
    "        number = next(rnd)\n",
    "        demand = 0\n",
    "        index = 0\n",
    "        for n in self.accumulation:\n",
    "            if n <= number:\n",
    "                demand = self.config.quantities[index]\n",
    "            index += 1\n",
    "        self.end_stock = start_stock - demand\n",
    "        if self.end_stock < 0:\n",
    "            self.deficit_days += 1\n",
    "        # нараховуємо прибуток відповідно попиту\n",
    "        self.profit += demand * self.config.demand_price\n",
    "        return [\n",
    "            self.day,\n",
    "            start_stock,\n",
    "            number,\n",
    "            demand,\n",
    "            ordered,\n",
    "            replenished,\n",
    "            self.end_stock,\n",
    "            self.profit\n",
    "        ]\n",
    "    def model(self, timespan = 10):\n",
    "        for _ in range(timespan):\n",
    "            self.store.append(self.time_increment())\n",
    "        df = pd.DataFrame(self.store, columns=self.attributes)\n",
    "        print(df)\n",
    "        return(df)\n",
    "\n",
    "class Object:\n",
    "    def __init__(self, **attributes):\n",
    "        self.__dict__.update(attributes)"
   ]
  },
  {
   "cell_type": "code",
   "execution_count": 41,
   "metadata": {},
   "outputs": [
    {
     "name": "stdout",
     "output_type": "stream",
     "text": [
      "       day  start_stock    number  demand  ordered  replenished  end_stock  \\\n",
      "0        1           10  0.464389       2        0            0          8   \n",
      "1        2            8  0.880168       3       10            0          5   \n",
      "2        3            5  0.430080       2        0            0          3   \n",
      "3        4           13  0.689376       2        0           10         11   \n",
      "4        5           11  0.858479       3        0            0          8   \n",
      "...    ...          ...       ...     ...      ...          ...        ...   \n",
      "3645  3646            6  0.465640       2       10            0          4   \n",
      "3646  3647            4  0.083080       0        0            0          4   \n",
      "3647  3648           14  0.221446       1        0           10         13   \n",
      "3648  3649           13  0.816303       3        0            0         10   \n",
      "3649  3650           10  0.848308       3        0            0          7   \n",
      "\n",
      "        profit  \n",
      "0        13000  \n",
      "1       -16400  \n",
      "2         1600  \n",
      "3        19600  \n",
      "4        46600  \n",
      "...        ...  \n",
      "3645  24419800  \n",
      "3646  24419800  \n",
      "3647  24428800  \n",
      "3648  24455800  \n",
      "3649  24482800  \n",
      "\n",
      "[3650 rows x 8 columns]\n"
     ]
    }
   ],
   "source": [
    "demand_config = Object(\n",
    "    start_stock = 10,\n",
    "    weights = [10, 30, 30, 20, 5, 5],\n",
    "    quantities = [1, 2, 3, 4, 5, 6],\n",
    "    cycle_days = 2,\n",
    "    replenish_quantity = 10,\n",
    "    replenish_condition = 8,\n",
    "    replenish_price = 5500,\n",
    "    replenish_expense = 1400,\n",
    "    demand_price = 9000,\n",
    "    profit = -5000\n",
    ")\n",
    "\n",
    "timespan = 3650\n",
    "model = Model(demand_config)\n",
    "df = model.model(timespan)"
   ]
  },
  {
   "cell_type": "code",
   "execution_count": 42,
   "metadata": {},
   "outputs": [
    {
     "name": "stdout",
     "output_type": "stream",
     "text": [
      "51 deficit days out of 3650 days modeled\n",
      "with 1.3972602739726028% of deficit probability\n",
      "and 24482800 conventional units of profit\n"
     ]
    }
   ],
   "source": [
    "print(f\"{model.deficit_days} deficit days out of {timespan} days modeled\")\n",
    "print(f\"with {model.deficit_days/timespan*100}% of deficit probability\")\n",
    "print(f\"and {model.profit} conventional units of profit\")"
   ]
  },
  {
   "cell_type": "code",
   "execution_count": 43,
   "metadata": {},
   "outputs": [
    {
     "name": "stdout",
     "output_type": "stream",
     "text": [
      "       day  start_stock    number  demand  ordered  replenished  end_stock  \\\n",
      "0        1           10  0.849307       3       20            0          7   \n",
      "1        2            7  0.443606       2        0            0          5   \n",
      "2        3           25  0.730833       3        0           20         22   \n",
      "3        4           22  0.572578       2        0            0         20   \n",
      "4        5           20  0.577726       2        0            0         18   \n",
      "...    ...          ...       ...     ...      ...          ...        ...   \n",
      "3645  3646           11  0.762005       3        0            0          8   \n",
      "3646  3647            8  0.508499       2       20            0          6   \n",
      "3647  3648            6  0.128213       1        0            0          5   \n",
      "3648  3649           25  0.022162       0        0           20         25   \n",
      "3649  3650           25  0.680553       2        0            0         23   \n",
      "\n",
      "        profit  \n",
      "0       -89400  \n",
      "1       -71400  \n",
      "2       -44400  \n",
      "3       -26400  \n",
      "4        -8400  \n",
      "...        ...  \n",
      "3645  24777600  \n",
      "3646  24684200  \n",
      "3647  24693200  \n",
      "3648  24693200  \n",
      "3649  24711200  \n",
      "\n",
      "[3650 rows x 8 columns]\n"
     ]
    }
   ],
   "source": [
    "demand_config = Object(\n",
    "    start_stock = 10,\n",
    "    weights = [10, 30, 30, 20, 5, 5],\n",
    "    quantities = [1, 2, 3, 4, 5, 6],\n",
    "    cycle_days = 2,\n",
    "    replenish_quantity = 20,\n",
    "    replenish_condition = 10,\n",
    "    replenish_price = 5500,\n",
    "    replenish_expense = 1400,\n",
    "    demand_price = 9000,\n",
    "    profit = -5000\n",
    ")\n",
    "\n",
    "timespan = 3650\n",
    "model = Model(demand_config)\n",
    "df = model.model(timespan)"
   ]
  },
  {
   "cell_type": "code",
   "execution_count": 40,
   "metadata": {},
   "outputs": [
    {
     "name": "stdout",
     "output_type": "stream",
     "text": [
      "1 deficit days out of 3650 days modeled\n",
      "with 0.0273972602739726% of deficit probability\n",
      "and 24857400 conventional units of profit\n"
     ]
    }
   ],
   "source": [
    "print(f\"{model.deficit_days} deficit days out of {timespan} days modeled\")\n",
    "print(f\"with {model.deficit_days/timespan*100}% of deficit probability\")\n",
    "print(f\"and {model.profit} conventional units of profit\")"
   ]
  },
  {
   "cell_type": "code",
   "execution_count": null,
   "metadata": {},
   "outputs": [],
   "source": []
  }
 ],
 "metadata": {
  "kernelspec": {
   "display_name": "Python 3 (ipykernel)",
   "language": "python",
   "name": "python3"
  },
  "language_info": {
   "codemirror_mode": {
    "name": "ipython",
    "version": 3
   },
   "file_extension": ".py",
   "mimetype": "text/x-python",
   "name": "python",
   "nbconvert_exporter": "python",
   "pygments_lexer": "ipython3",
   "version": "3.11.4"
  }
 },
 "nbformat": 4,
 "nbformat_minor": 2
}
