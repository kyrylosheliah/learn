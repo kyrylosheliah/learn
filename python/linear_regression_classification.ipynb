{
 "cells": [
  {
   "cell_type": "code",
   "execution_count": 1,
   "metadata": {
    "tags": []
   },
   "outputs": [],
   "source": [
    "%reset -f"
   ]
  },
  {
   "cell_type": "code",
   "execution_count": 2,
   "metadata": {
    "tags": []
   },
   "outputs": [],
   "source": [
    "import warnings\n",
    "warnings.filterwarnings('ignore')\n",
    "\n",
    "from matplotlib import pyplot as plt\n",
    "import seaborn as sns\n",
    "\n",
    "import numpy as np\n",
    "import pandas as pd\n",
    "from sklearn.preprocessing import PolynomialFeatures\n",
    "from sklearn.linear_model import LogisticRegression, LogisticRegressionCV\n",
    "from sklearn.model_selection import StratifiedKFold\n",
    "from sklearn.manifold import TSNE"
   ]
  },
  {
   "cell_type": "code",
   "execution_count": 3,
   "metadata": {
    "tags": []
   },
   "outputs": [],
   "source": [
    "df = pd.read_csv(\"./land_mines.csv\")\n",
    "# min_max_scaler = MinMaxScaler()\n",
    "# df[[\"S\", \"M\"]] = min_max_scaler.fit_transform(df[[\"S\", \"M\"]])\n",
    "X = df.drop([\"M\"], axis=1)\n",
    "y = df.M\n",
    "tsne_features = TSNE().fit_transform(X)\n",
    "df[\"x\"] = tsne_features[:,0]\n",
    "df[\"y\"] = tsne_features[:,1]"
   ]
  },
  {
   "cell_type": "code",
   "execution_count": 4,
   "metadata": {
    "tags": []
   },
   "outputs": [],
   "source": [
    "from matplotlib.colors import ListedColormap\n",
    "\n",
    "soil_labels = [\"Dry and Sandy\",\n",
    "               \"Dry and Humus\",\n",
    "               \"Dry and Limy\",\n",
    "               \"Humid and Sandy\",\n",
    "               \"Humid and Humus\",\n",
    "               \"Humid and Limy\"]\n",
    "mine_labels = [\"Null\",\n",
    "               \"Anti-tank\",\n",
    "               \"Anti-personnel\",\n",
    "               \"Booby Trapped Anti-personnel\",\n",
    "               \"M14 Anti-personnel\"]\n",
    "train_colors = [\"white\",\n",
    "                \"red\",\n",
    "                \"green\",\n",
    "                \"blue\",\n",
    "                \"yellow\",\n",
    "                \"purple\"]\n",
    "train_colormap = ListedColormap(train_colors)\n",
    "\n",
    "#mine_vals = [0.0, 0.25, 0.5, 0.75, 1.0]\n",
    "#soil_vals = [0.0, 0.2, 0.4, 0.6, 0.8, 1.0]\n",
    "mine_vals = [1,2,3,4,5]\n",
    "soil_vals = [1,2,3,4,5,6]\n",
    "mine_classes = list(map(lambda value: df[np.isclose(df[\"M\"], value)], mine_vals))\n",
    "soil_classes = list(map(lambda value: df[np.isclose(df[\"S\"], value)], soil_vals))\n",
    "x_y_values_transpose = lambda dataframe: dataframe[[\"x\", \"y\"]].values.transpose()\n",
    "\n",
    "mine_classified_train_data = list(map(\n",
    "    x_y_values_transpose,\n",
    "    mine_classes))\n",
    "\n",
    "soil_classified_train_data = list(map(\n",
    "    lambda dfs: list(map(\n",
    "        x_y_values_transpose,\n",
    "        list(map(lambda value: dfs[dfs[\"M\"] == value], mine_vals)))),\n",
    "    soil_classes))"
   ]
  },
  {
   "cell_type": "code",
   "execution_count": 5,
   "metadata": {
    "tags": []
   },
   "outputs": [],
   "source": [
    "def plot_boundary(index, C=1e-2, degree=7, grid_step=.01, max_iter=100):\n",
    "    data = soil_classes[index][[\"x\", \"y\", \"M\"]]\n",
    "    X = data.iloc[:,:2].values\n",
    "    y = data.iloc[:,2].values\n",
    "    poly = PolynomialFeatures(degree=degree)\n",
    "    X_poly = poly.fit_transform(X)\n",
    "    logit = LogisticRegression(C=C, max_iter=max_iter, random_state=17)\n",
    "    logit.fit(X_poly, y)\n",
    "    plt.figure(figsize=(4,4))\n",
    "    x_min, x_max = X[:, 0].min() - .1, X[:, 0].max() + .1\n",
    "    y_min, y_max = X[:, 1].min() - .1, X[:, 1].max() + .1\n",
    "    xx, yy = np.meshgrid(np.arange(x_min, x_max, grid_step),\n",
    "                         np.arange(y_min, y_max, grid_step))\n",
    "    Z = logit.predict(poly.transform(np.c_[xx.ravel(), yy.ravel()]))\n",
    "    Z = Z.reshape(xx.shape)\n",
    "    plt.contourf(xx, yy, Z, alpha=0.4, cmap=\"Greys\")\n",
    "    for i in range(5):\n",
    "        plt.scatter(X[y == mine_vals[i], 0],\n",
    "                    X[y == mine_vals[i], 1],\n",
    "                    c=train_colors[i], edgecolors='black', label=mine_labels[i])\n",
    "    plt.xlabel(\"x\")\n",
    "    plt.ylabel(\"y\")\n",
    "    plt.title(\"mine detection t-sne\\n'%s' soil\\nlogit with c=%s\"%(soil_labels[index],C))\n",
    "    plt.legend(loc='center left', bbox_to_anchor=(1, 0.5))\n",
    "    print(\"Accuracy:\", round(logit.score(X_poly, y), 3))\n",
    "    return y, X_poly\n",
    "\n",
    "def C_graph(y, X_poly, c_range=(0,10)):\n",
    "    skf = StratifiedKFold(n_splits=6, shuffle=True, random_state=17)\n",
    "    c_values = np.logspace(c_range[0]-1, c_range[1], 250)\n",
    "    logit_searcher = LogisticRegressionCV(Cs=c_values, cv=skf, verbose=1, n_jobs=-1)\n",
    "    logit_searcher.fit(X_poly, y)\n",
    "    print(\"logit_searcher.C_ = \", logit_searcher.C_[0])\n",
    "    plt.figure(figsize=(4,4))\n",
    "    plt.plot(c_values, np.mean(logit_searcher.scores_[1], axis=0))\n",
    "    plt.xlabel('C')\n",
    "    plt.ylabel('Mean CV-accuracy')\n",
    "    plt.xlim(c_range)\n",
    "    return logit_searcher.C_[0]"
   ]
  },
  {
   "cell_type": "code",
   "execution_count": 6,
   "metadata": {
    "tags": []
   },
   "outputs": [],
   "source": [
    "C = 10000"
   ]
  },
  {
   "cell_type": "code",
   "execution_count": 7,
   "metadata": {
    "tags": []
   },
   "outputs": [],
   "source": [
    "y, X_poly = plot_boundary(4, C=C, degree=7, grid_step=0.01, max_iter=10000)"
   ]
  },
  {
   "cell_type": "code",
   "execution_count": 8,
   "metadata": {
    "tags": []
   },
   "outputs": [],
   "source": [
    "C = C_graph(y, X_poly, c_range=(0, 10))"
   ]
  },
  {
   "cell_type": "code",
   "execution_count": null,
   "metadata": {},
   "outputs": [],
   "source": []
  },
  {
   "cell_type": "code",
   "execution_count": null,
   "metadata": {},
   "outputs": [],
   "source": []
  },
  {
   "cell_type": "code",
   "execution_count": null,
   "metadata": {},
   "outputs": [],
   "source": []
  },
  {
   "cell_type": "code",
   "execution_count": null,
   "metadata": {},
   "outputs": [],
   "source": []
  }
 ],
 "metadata": {
  "kernelspec": {
   "display_name": "Python 3 (ipykernel)",
   "language": "python",
   "name": "python3"
  }
 },
 "nbformat": 4,
 "nbformat_minor": 4
}
