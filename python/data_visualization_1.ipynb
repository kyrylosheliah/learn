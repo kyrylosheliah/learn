{
 "cells": [
  {
   "cell_type": "code",
   "execution_count": 45,
   "id": "3932c5e6-56a7-4874-876d-013a898fef9c",
   "metadata": {
    "tags": []
   },
   "outputs": [],
   "source": [
    "%reset -f"
   ]
  },
  {
   "cell_type": "code",
   "execution_count": 46,
   "id": "1cf502d6",
   "metadata": {
    "tags": []
   },
   "outputs": [],
   "source": [
    "import pandas as pd\n",
    "import seaborn as sns\n",
    "from sklearn.manifold import TSNE\n",
    "from sklearn.preprocessing import StandardScaler\n",
    "import matplotlib.pyplot as plt\n",
    "import itertools"
   ]
  },
  {
   "cell_type": "code",
   "execution_count": 47,
   "id": "fd85ef57-385b-4c60-a39b-8798aa71ae60",
   "metadata": {
    "tags": []
   },
   "outputs": [],
   "source": [
    "df = pd.read_csv(\"./land_mines.csv\")\n",
    "# df = df.replace({\n",
    "#     \"S\":\n",
    "#     {\n",
    "#         1: \"Dry and Sandy\",\n",
    "#         2: \"Dry and Humus\",\n",
    "#         3: \"Dry and Limy\",\n",
    "#         4: \"Humid and Sandy\",\n",
    "#         5: \"Humid and Humus\",\n",
    "#         6: \"Humid and Limy\"\n",
    "#     },\n",
    "#     \"M\":\n",
    "#     {\n",
    "#         1: \"Null\",\n",
    "#         2: \"Anti-tank\",\n",
    "#         3: \"Anti-personnel\",\n",
    "#         4: \"Booby Trapped Anti-personnel\",\n",
    "#         5: \"M14 Anti-personnel\"\n",
    "#     }\n",
    "# })\n",
    "# #######################\n",
    "# df = df[[\"V\", \"H\", \"M\"]]"
   ]
  },
  {
   "cell_type": "code",
   "execution_count": null,
   "id": "70c88683",
   "metadata": {
    "tags": []
   },
   "outputs": [],
   "source": [
    "plt.close('all')\n",
    "df.hist()"
   ]
  },
  {
   "cell_type": "code",
   "execution_count": null,
   "id": "3846d78f",
   "metadata": {
    "tags": []
   },
   "outputs": [],
   "source": [
    "plt.close('all')\n",
    "sns.heatmap(df.corr(), annot=True)"
   ]
  },
  {
   "cell_type": "markdown",
   "id": "e43bc790-d422-49a7-a250-5254eb93fb7c",
   "metadata": {},
   "source": [
    "<div>За мапою кореляції видно низький вплив типу ґрунту S на значення напруги V.</div>\n",
    "<div>Можливе його виключення:</div>\n",
    "`df = df[[\"V\", \"H\", \"M\"]]`"
   ]
  },
  {
   "cell_type": "code",
   "execution_count": null,
   "id": "f76914e5",
   "metadata": {
    "tags": []
   },
   "outputs": [],
   "source": [
    "plt.close('all')\n",
    "sns.pairplot(df)"
   ]
  },
  {
   "cell_type": "markdown",
   "id": "8108ac09-1efe-4aea-b4fc-ce358782bc01",
   "metadata": {},
   "source": [
    "За парними графіками бачимо перетин множин \"Є деяка міна\" (M =! 1) та \"Міни немає\" (M == 1), тому залишимо тип ґрунту S у датасеті для виявлення його можливого затосування для зменшення невизначеності далі. За парними критеріями відсутня можливість знайти класифікаційну кореляцію."
   ]
  },
  {
   "cell_type": "code",
   "execution_count": null,
   "id": "5658f6c0",
   "metadata": {
    "tags": []
   },
   "outputs": [],
   "source": [
    "df_boolean = df.replace({\"M\": {1: False, 2: True, 3: True, 4: True, 5: True}})\n",
    "plt.close('all')\n",
    "sns.scatterplot(x=\"V\", y=\"H\", data=df_boolean, hue=\"M\")"
   ]
  },
  {
   "cell_type": "markdown",
   "id": "b02cfb6a-4c74-41ee-9951-f2b63389095b",
   "metadata": {},
   "source": [
    "Приклад з напругою та висотою."
   ]
  },
  {
   "cell_type": "code",
   "execution_count": null,
   "id": "0b8c5b7f",
   "metadata": {
    "tags": []
   },
   "outputs": [],
   "source": [
    "plt.close('all')\n",
    "sns.lmplot(x=\"V\", y=\"S\", data=df_boolean, hue=\"M\", fit_reg=False)"
   ]
  },
  {
   "cell_type": "markdown",
   "id": "5717e74a-44ef-4fb8-8051-4cec82391217",
   "metadata": {
    "tags": []
   },
   "source": [
    "Приклад з ґрунтом та напругою. "
   ]
  },
  {
   "cell_type": "code",
   "execution_count": null,
   "id": "4d09d496",
   "metadata": {
    "tags": []
   },
   "outputs": [],
   "source": [
    "plt.close('all')\n",
    "sns.scatterplot(x=\"V\", y=\"M\", data=df, hue=\"M\")"
   ]
  },
  {
   "cell_type": "markdown",
   "id": "ebba7fa4-b3e0-4160-8532-4ceec5bc87c3",
   "metadata": {},
   "source": [
    "Приклад з напругою та типом міни. Наявний невигідний перетин спостерігається при парній комбінації будь-яких параметрів.  "
   ]
  },
  {
   "cell_type": "code",
   "execution_count": 48,
   "id": "60334c36-026c-49bb-883a-baad3c59af58",
   "metadata": {
    "tags": []
   },
   "outputs": [],
   "source": [
    "df_VHS = df.drop([\"M\"], axis=1)\n",
    "tsne_features = TSNE().fit_transform(df_VHS)\n",
    "df[\"x\"] = tsne_features[:,0]\n",
    "df[\"y\"] = tsne_features[:,1]"
   ]
  },
  {
   "cell_type": "code",
   "execution_count": 49,
   "id": "27c44d9d-fc97-4071-b77a-c1b3b58f745f",
   "metadata": {
    "tags": []
   },
   "outputs": [],
   "source": [
    "tsne_features_3d = TSNE(n_components=3).fit_transform(df_VHS)\n",
    "df[\"x_3d\"] = tsne_features_3d[:,0]\n",
    "df[\"y_3d\"] = tsne_features_3d[:,1]\n",
    "df[\"z_3d\"] = tsne_features_3d[:,2]"
   ]
  },
  {
   "cell_type": "code",
   "execution_count": null,
   "id": "f80fb558",
   "metadata": {
    "tags": []
   },
   "outputs": [],
   "source": [
    "%matplotlib inline\n",
    "\n",
    "plt.close('all')\n",
    "sns.scatterplot(x='x', y='y', hue='M', data=df, alpha=0.5)\n",
    "plt.show()"
   ]
  },
  {
   "cell_type": "markdown",
   "id": "0be706c1-0c1e-4e27-8ca4-7ee6ccbd5158",
   "metadata": {
    "tags": []
   },
   "source": [
    "Вище описано неможливість точно вирішити проблему класифікацією за парними параметрами. Тут спостерігаємо успішне вирішення класифікації методами машинного навчання TSNE, що підтверджує необхідність використання щонайменш трьох з параметрів для умовного висновку. Це говорить про можливість розбиття процесу класифікації деревом рішень або послідовним перемиканням між значеннями параметрів серед нечітких множин."
   ]
  },
  {
   "cell_type": "code",
   "execution_count": null,
   "id": "179cc63c",
   "metadata": {
    "tags": []
   },
   "outputs": [],
   "source": [
    "%matplotlib widget\n",
    "\n",
    "plt.close('all')\n",
    "fig = plt.figure()\n",
    "fig.clear()\n",
    "ax = fig.add_subplot(projection='3d')\n",
    "ax.view_init(elev=25, azim=0, roll=0)\n",
    "scatter = ax.scatter(df[\"x_3d\"], df[\"y_3d\"], df[\"z_3d\"], c=df[\"M\"])\n",
    "plt.legend(*scatter.legend_elements())\n",
    "plt.show()"
   ]
  },
  {
   "cell_type": "markdown",
   "id": "fe2235f0-c60e-49c5-bc5f-cdf4213a63c5",
   "metadata": {},
   "source": [
    "Приклад спроможності класифікації методами машинного навчання TSNE у трьох вимірах."
   ]
  }
 ],
 "metadata": {
  "kernelspec": {
   "display_name": "Python 3 (ipykernel)",
   "language": "python",
   "name": "python3"
  },
  "language_info": {
   "codemirror_mode": {
    "name": "ipython",
    "version": 3
   },
   "file_extension": ".py",
   "mimetype": "text/x-python",
   "name": "python",
   "nbconvert_exporter": "python",
   "pygments_lexer": "ipython3",
   "version": "3.11.4"
  }
 },
 "nbformat": 4,
 "nbformat_minor": 5
}
