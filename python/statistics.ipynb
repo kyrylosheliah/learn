{
 "cells": [
  {
   "cell_type": "code",
   "execution_count": 25,
   "id": "0bd19cdb-299c-4ba3-b3cc-853c39c456ae",
   "metadata": {},
   "outputs": [],
   "source": [
    "import numpy as np\n",
    "import pandas as pd\n",
    "import matplotlib.pyplot as plt\n",
    "from scipy import stats"
   ]
  },
  {
   "cell_type": "code",
   "execution_count": 26,
   "id": "f8a622d3-8b25-45dc-86e3-b2edf2351f59",
   "metadata": {},
   "outputs": [
    {
     "data": {
      "text/plain": [
       "66"
      ]
     },
     "execution_count": 26,
     "metadata": {},
     "output_type": "execute_result"
    }
   ],
   "source": [
    "# Вхідні дані\n",
    "N = 11\n",
    "N2 = N*2\n",
    "data = np.array([\n",
    "    54-N2, 103-N2, 72, 92, 83, 81, 79, 53-N2, 68, 82, 94, 65, 97, 110-N2, 78, 82,\n",
    "    63, 101-N2, 68, 87, 98, 95, 53-N2, 93, 78, 62, 57, 88, 99, 105-N2, 66, 73, 67,\n",
    "    101-N2, 91, 83, 57, 55-N2, 81, 83, 89, 91, 85, 102, 88, 108-N2, 93, 58, 67,\n",
    "    104-N2, 78, 85, 78, 85, 78, 108, 86, 91, 93, 88, 75,68, 94, 115-N2, 84, 101\n",
    "])\n",
    "n_intervals = 8\n",
    "n = len(data)\n",
    "n"
   ]
  },
  {
   "cell_type": "code",
   "execution_count": 27,
   "id": "cb0d7ac7-b224-4149-aa46-7f5ee6ee8b7c",
   "metadata": {},
   "outputs": [
    {
     "name": "stdout",
     "output_type": "stream",
     "text": [
      "[ 31  31  32  33  57  57  58  62  63  65  66  67  67  68  68  68  72  73\n",
      "  75  78  78  78  78  78  79  79  79  81  81  81  82  82  82  83  83  83\n",
      "  83  84  85  85  85  86  86  87  88  88  88  88  89  91  91  91  92  93\n",
      "  93  93  93  94  94  95  97  98  99 101 102 108]\n"
     ]
    }
   ],
   "source": [
    "# Будуємо варіаційний ряд\n",
    "data.sort()\n",
    "print(data)"
   ]
  },
  {
   "cell_type": "code",
   "execution_count": 28,
   "id": "94024ca1-d9d0-486a-9aba-8f993634e3c3",
   "metadata": {},
   "outputs": [
    {
     "name": "stdout",
     "output_type": "stream",
     "text": [
      "Мінімальне значення ряду 31\n",
      "Максимальне значення ряду 108\n",
      "Розмах вибірки R=77\n",
      "Довжина інтервалу w=9.625\n"
     ]
    }
   ],
   "source": [
    "data_min = data.min()\n",
    "print(f\"Мінімальне значення ряду {data_min}\")\n",
    "data_max = data.max()\n",
    "print(f\"Максимальне значення ряду {data_max}\")\n",
    "R = data_max - data_min\n",
    "print(f\"Розмах вибірки R={R}\")\n",
    "w = R/n_intervals\n",
    "print(f\"Довжина інтервалу w={w}\")"
   ]
  },
  {
   "cell_type": "code",
   "execution_count": 29,
   "id": "2a38146e-b622-426d-8a37-fdba6e03e5ff",
   "metadata": {},
   "outputs": [
    {
     "name": "stdout",
     "output_type": "stream",
     "text": [
      "[[31, 40.625], [40.625, 50.25], [50.25, 59.875], [59.875, 69.5], [69.5, 79.125], [79.125, 88.75], [88.75, 98.375], [98.375, 108]]\n"
     ]
    }
   ],
   "source": [
    "# При побудові таблиці частот як нижню межу першого інтервалу прийнято мінімальне\n",
    "# значення вибірки. При підрахунку частот у випадку співпадіння елемента вибірки з\n",
    "# верхньою межею відповідний елемент враховувався в даному інтервалі.\n",
    "boundaries = [[data_min, data_min+w]]\n",
    "boundary_left = boundaries[-1][1]\n",
    "while boundary_left < data_max:\n",
    "    boundary_left = boundaries[-1][1]\n",
    "    boundary_right = boundary_left + w\n",
    "    if np.abs(boundary_right - data_max) < w:\n",
    "        boundary_right = data_max\n",
    "    boundaries.append([boundary_left, boundary_right])\n",
    "    boundary_left = boundary_right\n",
    "print(boundaries)"
   ]
  },
  {
   "cell_type": "code",
   "execution_count": 30,
   "id": "913e1825-8ff4-40e0-85e7-a973838d9c8a",
   "metadata": {},
   "outputs": [
    {
     "data": {
      "text/html": [
       "<div>\n",
       "<style scoped>\n",
       "    .dataframe tbody tr th:only-of-type {\n",
       "        vertical-align: middle;\n",
       "    }\n",
       "\n",
       "    .dataframe tbody tr th {\n",
       "        vertical-align: top;\n",
       "    }\n",
       "\n",
       "    .dataframe thead th {\n",
       "        text-align: right;\n",
       "    }\n",
       "</style>\n",
       "<table border=\"1\" class=\"dataframe\">\n",
       "  <thead>\n",
       "    <tr style=\"text-align: right;\">\n",
       "      <th></th>\n",
       "      <th>Межі</th>\n",
       "      <th>zi</th>\n",
       "      <th>ni</th>\n",
       "      <th>ni/n</th>\n",
       "      <th>SUM(ni/n)</th>\n",
       "      <th>ni/(wn)</th>\n",
       "    </tr>\n",
       "  </thead>\n",
       "  <tbody>\n",
       "    <tr>\n",
       "      <th>0</th>\n",
       "      <td>[31, 40.625]</td>\n",
       "      <td>35.8125</td>\n",
       "      <td>4</td>\n",
       "      <td>0.060606</td>\n",
       "      <td>0.060606</td>\n",
       "      <td>0.006297</td>\n",
       "    </tr>\n",
       "    <tr>\n",
       "      <th>1</th>\n",
       "      <td>[40.625, 50.25]</td>\n",
       "      <td>45.4375</td>\n",
       "      <td>0</td>\n",
       "      <td>0.000000</td>\n",
       "      <td>0.060606</td>\n",
       "      <td>0.000000</td>\n",
       "    </tr>\n",
       "    <tr>\n",
       "      <th>2</th>\n",
       "      <td>[50.25, 59.875]</td>\n",
       "      <td>55.0625</td>\n",
       "      <td>3</td>\n",
       "      <td>0.045455</td>\n",
       "      <td>0.106061</td>\n",
       "      <td>0.004723</td>\n",
       "    </tr>\n",
       "    <tr>\n",
       "      <th>3</th>\n",
       "      <td>[59.875, 69.5]</td>\n",
       "      <td>64.6875</td>\n",
       "      <td>9</td>\n",
       "      <td>0.136364</td>\n",
       "      <td>0.242424</td>\n",
       "      <td>0.014168</td>\n",
       "    </tr>\n",
       "    <tr>\n",
       "      <th>4</th>\n",
       "      <td>[69.5, 79.125]</td>\n",
       "      <td>74.3125</td>\n",
       "      <td>11</td>\n",
       "      <td>0.166667</td>\n",
       "      <td>0.409091</td>\n",
       "      <td>0.017316</td>\n",
       "    </tr>\n",
       "    <tr>\n",
       "      <th>5</th>\n",
       "      <td>[79.125, 88.75]</td>\n",
       "      <td>83.9375</td>\n",
       "      <td>21</td>\n",
       "      <td>0.318182</td>\n",
       "      <td>0.727273</td>\n",
       "      <td>0.033058</td>\n",
       "    </tr>\n",
       "    <tr>\n",
       "      <th>6</th>\n",
       "      <td>[88.75, 98.375]</td>\n",
       "      <td>93.5625</td>\n",
       "      <td>14</td>\n",
       "      <td>0.212121</td>\n",
       "      <td>0.939394</td>\n",
       "      <td>0.022039</td>\n",
       "    </tr>\n",
       "    <tr>\n",
       "      <th>7</th>\n",
       "      <td>[98.375, 108]</td>\n",
       "      <td>103.1875</td>\n",
       "      <td>4</td>\n",
       "      <td>0.060606</td>\n",
       "      <td>1.000000</td>\n",
       "      <td>0.006297</td>\n",
       "    </tr>\n",
       "  </tbody>\n",
       "</table>\n",
       "</div>"
      ],
      "text/plain": [
       "              Межі        zi  ni      ni/n  SUM(ni/n)   ni/(wn)\n",
       "0     [31, 40.625]   35.8125   4  0.060606   0.060606  0.006297\n",
       "1  [40.625, 50.25]   45.4375   0  0.000000   0.060606  0.000000\n",
       "2  [50.25, 59.875]   55.0625   3  0.045455   0.106061  0.004723\n",
       "3   [59.875, 69.5]   64.6875   9  0.136364   0.242424  0.014168\n",
       "4   [69.5, 79.125]   74.3125  11  0.166667   0.409091  0.017316\n",
       "5  [79.125, 88.75]   83.9375  21  0.318182   0.727273  0.033058\n",
       "6  [88.75, 98.375]   93.5625  14  0.212121   0.939394  0.022039\n",
       "7    [98.375, 108]  103.1875   4  0.060606   1.000000  0.006297"
      ]
     },
     "metadata": {},
     "output_type": "display_data"
    }
   ],
   "source": [
    "frequency_table = []\n",
    "for boundary in boundaries:\n",
    "    zi = (boundary[0] + boundary[1]) / 2\n",
    "    selected_data = [number for number in data if number >= boundary[0] and number <= boundary[1]]\n",
    "    ni = len(selected_data)\n",
    "    ni_by_n = ni / n\n",
    "    sum_ni_by_n = ni_by_n\n",
    "    if len(frequency_table) > 0:\n",
    "        sum_ni_by_n += frequency_table[-1][4]\n",
    "    ni_by_wn = ni / (w * n)\n",
    "    frequency_table.append([ boundary, zi, ni, ni_by_n, sum_ni_by_n, ni_by_wn ])\n",
    "columns = [\"Межі\", \"zi\", \"ni\", \"ni/n\", \"SUM(ni/n)\", \"ni/(wn)\"]\n",
    "df = pd.DataFrame(frequency_table, columns=columns)\n",
    "display(df)"
   ]
  },
  {
   "cell_type": "code",
   "execution_count": 18,
   "id": "79496688-e0f1-4887-ae84-7746361daf9b",
   "metadata": {},
   "outputs": [
    {
     "data": {
      "image/png": "[encoded data removed]",
      "text/plain": [
       "<Figure size 640x480 with 1 Axes>"
      ]
     },
     "metadata": {},
     "output_type": "display_data"
    }
   ],
   "source": [
    "zi = df[\"zi\"].values\n",
    "zi_ticks = [f\"{round(boundary[0], 2)}\\n-\\n{round(boundary[1], 2)}\" for boundary in df[\"Межі\"].values]\n",
    "ni_by_wn = df[\"ni/(wn)\"].values\n",
    "plt.bar(zi, ni_by_wn, width=w*2/3)\n",
    "plt.xticks(zi, zi_ticks)\n",
    "plt.show() "
   ]
  },
  {
   "cell_type": "code",
   "execution_count": 19,
   "id": "d81bab7f-4cbd-4937-8dfb-7fa598280a9d",
   "metadata": {},
   "outputs": [
    {
     "data": {
      "image/png": "[encoded data removed]",
      "text/plain": [
       "<Figure size 640x480 with 1 Axes>"
      ]
     },
     "metadata": {},
     "output_type": "display_data"
    }
   ],
   "source": [
    "zi = df[\"zi\"].values\n",
    "sum_ni_by_n = df[\"SUM(ni/n)\"].values\n",
    "x_cumulative = [round(zi[0] - w, 2)]\n",
    "y_cumulative = [0]\n",
    "for i in range(len(zi)):\n",
    "    x_cumulative.append(round(zi[i], 2))\n",
    "    x_cumulative.append(round(zi[i], 2))\n",
    "    y_cumulative.append(round(y_cumulative[-1], 2))\n",
    "    y_cumulative.append(round(sum_ni_by_n[i], 2))\n",
    "x_cumulative.append(round(x_cumulative[-1] + w, 2))\n",
    "y_cumulative.append(y_cumulative[-1])\n",
    "plt.plot(x_cumulative, y_cumulative)\n",
    "plt.xticks(x_cumulative, x_cumulative)\n",
    "plt.yticks(y_cumulative, y_cumulative)\n",
    "plt.show() "
   ]
  },
  {
   "cell_type": "code",
   "execution_count": 20,
   "id": "cd2658b9-486d-4e26-bb07-cbf18269b62f",
   "metadata": {},
   "outputs": [
    {
     "name": "stdout",
     "output_type": "stream",
     "text": [
      "середнє 79.16666666666667\n",
      "медіана 82.5\n",
      "мода 78\n",
      "дисперсія 270.5934343434337\n",
      "стандартне відхилення 16.449724445820777\n"
     ]
    }
   ],
   "source": [
    "mean = data.mean()\n",
    "print(f\"середнє {mean}\")\n",
    "median = np.median(data, axis=0)\n",
    "print(f\"медіана {median}\")\n",
    "mode = stats.mode(data)[0]\n",
    "print(f\"мода {mode}\")\n",
    "Dx = 1/n * np.sum(data**2) - mean**2\n",
    "print(f\"дисперсія {Dx}\")\n",
    "sigma = np.sqrt(Dx)\n",
    "print(f\"стандартне відхилення {sigma}\")"
   ]
  },
  {
   "cell_type": "code",
   "execution_count": 24,
   "id": "ba9803ba-8c11-4aaa-aa6b-3190d46fdf59",
   "metadata": {},
   "outputs": [
    {
     "data": {
      "text/plain": [
       "Text(112.01903494001799, 0, '112.02>|')"
      ]
     },
     "execution_count": 24,
     "metadata": {},
     "output_type": "execute_result"
    },
    {
     "data": {
      "image/png": "[encoded data removed]",
      "text/plain": [
       "<Figure size 640x480 with 1 Axes>"
      ]
     },
     "metadata": {},
     "output_type": "display_data"
    }
   ],
   "source": [
    "# побудувати 95% довірчий інтервал для математичного сподівання генеральної сукупності\n",
    "confidence_interval = stats.t.interval(\n",
    "    confidence=0.95,\n",
    "    df=n-1,\n",
    "    loc=mean,\n",
    "    scale=sigma)\n",
    "x_axis = np.arange(data_min-w, data_max+w, 0.1)\n",
    "pdf = stats.norm.pdf(x_axis, mean, sigma)\n",
    "plt.plot(x_axis, pdf, color=\"#909090\")\n",
    "low = confidence_interval[0]\n",
    "high = confidence_interval[1]\n",
    "plt.fill_between(x_axis, pdf, where=(low < x_axis) & (x_axis < high), color=\"#e0e0e0\")\n",
    "plt.text(low, 0, f\"|<{round(low, 2)}\", ha='left')\n",
    "plt.text(high, 0, f\"{round(high, 2)}>|\", ha='right')"
   ]
  },
  {
   "cell_type": "code",
   "execution_count": 22,
   "id": "f9b44ebd-e117-4578-bc6f-9d1cc2370e1d",
   "metadata": {},
   "outputs": [
    {
     "name": "stdout",
     "output_type": "stream",
     "text": [
      "ексцес -1.2952311235269511\n",
      "асиметричність 1.8156353101688714\n"
     ]
    }
   ],
   "source": [
    "skewness = stats.skew(data, axis=0, bias=True)\n",
    "print(f\"ексцес {skewness}\")\n",
    "kurtosis = stats.kurtosis(data, axis=0, bias=True)\n",
    "print(f\"асиметричність {kurtosis}\")"
   ]
  },
  {
   "cell_type": "code",
   "execution_count": null,
   "id": "2c4d8b48-7b30-452a-b648-49228b9f7db7",
   "metadata": {},
   "outputs": [],
   "source": []
  }
 ],
 "metadata": {
  "kernelspec": {
   "display_name": "Python 3 (ipykernel)",
   "language": "python",
   "name": "python3"
  },
  "language_info": {
   "codemirror_mode": {
    "name": "ipython",
    "version": 3
   },
   "file_extension": ".py",
   "mimetype": "text/x-python",
   "name": "python",
   "nbconvert_exporter": "python",
   "pygments_lexer": "ipython3",
   "version": "3.12.2"
  }
 },
 "nbformat": 4,
 "nbformat_minor": 5
}
