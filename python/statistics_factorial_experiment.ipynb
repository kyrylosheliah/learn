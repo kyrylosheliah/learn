{
 "cells": [
  {
   "cell_type": "code",
   "execution_count": 1,
   "id": "189d1728",
   "metadata": {},
   "outputs": [],
   "source": [
    "from datetime import datetime, time, timedelta\n",
    "import math\n",
    "import statistics\n",
    "import random\n",
    "random.seed(datetime.now().timestamp())\n",
    "import pandas as pd\n",
    "pd.set_option('display.width', 1000)\n",
    "pd.set_option(\"display.precision\", 1)\n",
    "import matplotlib.pyplot as plt\n",
    "import numpy as np\n",
    "from scipy.stats import chi2"
   ]
  },
  {
   "cell_type": "markdown",
   "id": "9a1a4480-02b6-499a-8fd4-725bbf707c80",
   "metadata": {},
   "source": [
    "## Вхідні дані"
   ]
  },
  {
   "cell_type": "code",
   "execution_count": 4,
   "id": "6417f135",
   "metadata": {},
   "outputs": [
    {
     "name": "stdout",
     "output_type": "stream",
     "text": [
      "    x0   x1   x2   y1    y2    y3    y4    y5   yj  y'j\n",
      "0  1.0  1.0 -1.0  3.0   9.0   9.0   3.0   5.0  5.8  3.6\n",
      "1  1.0 -1.0  1.0  9.0   2.0   1.0  10.0   2.0  4.8  5.6\n",
      "2  1.0  1.0 -1.0  2.0   8.0   4.0   8.0   4.0  5.2  3.6\n",
      "3  1.0  1.0  1.0  5.0   3.0   3.0   1.0   2.0  2.8  6.0\n",
      "4  1.0 -1.0 -1.0  4.0   4.0   3.0   8.0   1.0  4.0  3.2\n",
      "5  1.0 -1.0  1.0  4.0   6.0   1.0   7.0   1.0  3.8  5.6\n",
      "6  1.0  1.0  1.0  6.0  10.0  10.0   6.0   5.0  7.4  6.0\n",
      "7  1.0 -1.0  1.0  4.0   3.0   4.0   2.0   2.0  3.0  5.6\n",
      "8  1.0  1.0 -1.0  8.0   7.0   3.0   3.0   7.0  5.6  3.6\n",
      "9  1.0 -1.0  1.0  1.0   9.0   7.0   9.0  10.0  7.2  5.6\n"
     ]
    }
   ],
   "source": [
    "columns = [\"x0\",\"x1\",\"x2\",\"y1\",\"y2\",\"y3\",\"y4\",\"y5\",\"yj\",\"y'j\"]\n",
    "data = np.array([\n",
    "    [1, 1, 1, 1, 1, 1, 1, 1, 1, 1],\n",
    "    [1, -1, 1, 1, -1, -1, 1, -1, 1, -1],\n",
    "    [-1, 1, -1, 1, -1, 1, 1, 1, -1, 1],\n",
    "    [3, 9, 2, 5, 4, 4, 6, 4, 8, 1],\n",
    "    [9, 2, 8, 3, 4, 6, 10, 3, 7, 9],\n",
    "    [9, 1, 4, 3, 3, 1, 10, 4, 3, 7],\n",
    "    [3, 10, 8, 1, 8, 7, 6, 2, 3, 9],\n",
    "    [5, 2, 4, 2, 1, 1, 5, 2, 7, 10],\n",
    "    [5.8, 4.8, 5.2, 2.8, 4, 3.8, 7.4, 3, 5.6, 7.2],\n",
    "    [3.6, 5.6, 3.6, 6, 3.2, 5.6, 6, 5.6, 3.6, 5.6]\n",
    "])\n",
    "df = pd.DataFrame(np.transpose(data), columns=columns)\n",
    "n = 5\n",
    "N = 10\n",
    "print(df)"
   ]
  },
  {
   "cell_type": "markdown",
   "id": "a9a8da76",
   "metadata": {},
   "source": [
    "## Перевірити результати експериментальних досліджень:\n",
    "#### –\tна однорідність вибіркових дисперсій за критерієм Кохрена;"
   ]
  },
  {
   "cell_type": "code",
   "execution_count": 49,
   "id": "dfda2569",
   "metadata": {},
   "outputs": [
    {
     "name": "stdout",
     "output_type": "stream",
     "text": [
      "0.23567041965199592\n"
     ]
    }
   ],
   "source": [
    "y_rows = data[3:8]\n",
    "mean_square_error = [\n",
    "    np.sum((y_row - y_row.mean())**2)/(len(y_row)-1)\n",
    "    for y_row in y_rows]\n",
    "G_criterion_Kohren = np.max(mean_square_error) / np.sum(mean_square_error)\n",
    "f1 = n - 1\n",
    "f2 = N\n",
    "alpha = 0.05\n",
    "print(G_criterion_Kohren)\n",
    "#chi2.sf(q, f1)\n",
    "#chi2.ppf(q, f1)"
   ]
  },
  {
   "cell_type": "code",
   "execution_count": 50,
   "id": "55b19734",
   "metadata": {},
   "outputs": [
    {
     "name": "stdout",
     "output_type": "stream",
     "text": [
      "True\n"
     ]
    }
   ],
   "source": [
    "G_table_Kohren_f1_f2_alpha = 0.3311\n",
    "print(G_criterion_Kohren < G_table_Kohren_f1_f2_alpha)"
   ]
  },
  {
   "cell_type": "markdown",
   "id": "32b2b901",
   "metadata": {},
   "source": [
    "G < Gkr, гіпотеза про однорідність дисперсій приймається"
   ]
  },
  {
   "cell_type": "markdown",
   "id": "ce2de3bd",
   "metadata": {},
   "source": [
    "## Перевірити результати експериментальних досліджень:\n",
    "#### –\tна значущість коефіцієнтів регресії за критерієм Стьюдента;"
   ]
  },
  {
   "cell_type": "code",
   "execution_count": 51,
   "id": "0b42f021",
   "metadata": {},
   "outputs": [
    {
     "data": {
      "text/plain": [
       "[4.6, 0.2, 1.2]"
      ]
     },
     "metadata": {},
     "output_type": "display_data"
    }
   ],
   "source": [
    "yU = data[3]\n",
    "x_rows = data[0:3]\n",
    "bi = [(np.sum(yU * xiU)/N) for xiU in x_rows] ## regression coefficients\n",
    "display(bi)"
   ]
  },
  {
   "cell_type": "code",
   "execution_count": 54,
   "id": "2c56f991",
   "metadata": {},
   "outputs": [
    {
     "data": {
      "text/plain": [
       "array([10.40628107,  0.452447  ,  2.71468202])"
      ]
     },
     "metadata": {},
     "output_type": "display_data"
    }
   ],
   "source": [
    "S2y = 1/(N*(n-1))*np.sum([np.sum([(yi - y_row.mean())**2 for yi in y_row]) for y_row in y_rows])\n",
    "Sy = np.sqrt(S2y)\n",
    "Sb = Sy/np.sqrt(n*N)\n",
    "tp = np.absolute(bi)/Sb\n",
    "display(tp)"
   ]
  },
  {
   "cell_type": "code",
   "execution_count": 55,
   "id": "add9311e",
   "metadata": {},
   "outputs": [],
   "source": [
    "f = N*(n-1)\n",
    "alpha = 0.05"
   ]
  },
  {
   "cell_type": "code",
   "execution_count": 56,
   "id": "da51759b",
   "metadata": {},
   "outputs": [
    {
     "data": {
      "text/plain": [
       "40"
      ]
     },
     "execution_count": 56,
     "metadata": {},
     "output_type": "execute_result"
    }
   ],
   "source": [
    "f"
   ]
  },
  {
   "cell_type": "code",
   "execution_count": 57,
   "id": "2c3b9e1e",
   "metadata": {},
   "outputs": [],
   "source": [
    "t_table_alpha_f = 2.021"
   ]
  },
  {
   "cell_type": "markdown",
   "id": "e193f53c-772b-43ee-8b30-fcedd6f08de9",
   "metadata": {},
   "source": [
    "Критерій є значущим:"
   ]
  },
  {
   "cell_type": "code",
   "execution_count": 58,
   "id": "83920e52",
   "metadata": {},
   "outputs": [
    {
     "data": {
      "text/plain": [
       "array([ True, False,  True])"
      ]
     },
     "metadata": {},
     "output_type": "display_data"
    }
   ],
   "source": [
    "significance = tp > t_table_alpha_f\n",
    "display(significance)"
   ]
  },
  {
   "cell_type": "markdown",
   "id": "821b59aa",
   "metadata": {},
   "source": [
    "## Перевірити результати експериментальних досліджень:\n",
    "#### –\tна адекватність моделі за критерієм Фішера."
   ]
  },
  {
   "cell_type": "code",
   "execution_count": 59,
   "id": "10531b99",
   "metadata": {},
   "outputs": [
    {
     "data": {
      "text/plain": [
       "1.2736693961105428"
      ]
     },
     "execution_count": 59,
     "metadata": {},
     "output_type": "execute_result"
    }
   ],
   "source": [
    "y_target = data[8]\n",
    "## target or regression based on bi ???\n",
    "significant_y_rows = []\n",
    "for i in range(len(significance)):\n",
    "    if significance[i]:\n",
    "        significant_y_rows.append(y_rows[i])\n",
    "l = len(significant_y_rows)\n",
    "sigma2sum = 0\n",
    "for i in range(N):\n",
    "    scatter = 0\n",
    "    experiment_count = len(significant_y_rows)\n",
    "    for j in range(experiment_count):\n",
    "        scatter += significant_y_rows[j][i]\n",
    "    scatter /= experiment_count\n",
    "    sigma2sum += (scatter - y_target[i])**2\n",
    "S2x = n/(N-l)*sigma2sum\n",
    "Fp = S2x / S2y\n",
    "Fp"
   ]
  },
  {
   "cell_type": "code",
   "execution_count": 60,
   "id": "839911b7",
   "metadata": {},
   "outputs": [
    {
     "data": {
      "text/plain": [
       "8"
      ]
     },
     "execution_count": 60,
     "metadata": {},
     "output_type": "execute_result"
    }
   ],
   "source": [
    "alpha = 0.05\n",
    "f1 = N - l\n",
    "f1"
   ]
  },
  {
   "cell_type": "code",
   "execution_count": 61,
   "id": "d0474995",
   "metadata": {},
   "outputs": [
    {
     "data": {
      "text/plain": [
       "30"
      ]
     },
     "execution_count": 61,
     "metadata": {},
     "output_type": "execute_result"
    }
   ],
   "source": [
    "f2 = N*(n-l)\n",
    "f2"
   ]
  },
  {
   "cell_type": "code",
   "execution_count": 63,
   "id": "4f502ef6",
   "metadata": {},
   "outputs": [
    {
     "data": {
      "text/plain": [
       "True"
      ]
     },
     "execution_count": 63,
     "metadata": {},
     "output_type": "execute_result"
    }
   ],
   "source": [
    "F_table_alpha_f1_f2 = 2.2662\n",
    "Fp < F_table_alpha_f1_f2"
   ]
  },
  {
   "cell_type": "markdown",
   "id": "2180b7fb-3a2b-4417-b084-d87746285383",
   "metadata": {},
   "source": [
    "Fp < F_table, гіпотеза про адекватність опису досліджуваного об'єкта отриманою математичною моделлю приймається"
   ]
  },
  {
   "cell_type": "code",
   "execution_count": null,
   "id": "babcedc1",
   "metadata": {},
   "outputs": [],
   "source": []
  }
 ],
 "metadata": {
  "kernelspec": {
   "display_name": "Python 3 (ipykernel)",
   "language": "python",
   "name": "python3"
  },
  "language_info": {
   "codemirror_mode": {
    "name": "ipython",
    "version": 3
   },
   "file_extension": ".py",
   "mimetype": "text/x-python",
   "name": "python",
   "nbconvert_exporter": "python",
   "pygments_lexer": "ipython3",
   "version": "3.12.2"
  }
 },
 "nbformat": 4,
 "nbformat_minor": 5
}
