{
 "cells": [
  {
   "cell_type": "code",
   "execution_count": 5,
   "metadata": {
    "tags": []
   },
   "outputs": [],
   "source": [
    "from datetime import datetime\n",
    "import random\n",
    "random.seed(datetime.now().timestamp())\n",
    "import pandas as pd\n",
    "import matplotlib.pyplot as plt"
   ]
  },
  {
   "cell_type": "code",
   "execution_count": 6,
   "metadata": {
    "tags": []
   },
   "outputs": [],
   "source": [
    "def random_roll():\n",
    "    last_time = datetime.now().timestamp()\n",
    "    while True:\n",
    "        time_now = datetime.now().timestamp()\n",
    "        if last_time != time_now:\n",
    "            random.seed(time_now)\n",
    "            last_time = time_now\n",
    "        else:\n",
    "            random.seed(random.random())\n",
    "        yield random.random()\n",
    "rnd = random_roll()\n",
    "\n",
    "class Model:\n",
    "    def __init__(self, config):\n",
    "        self.attributes = [\"yesterdays_barges\",\"incoming_barges\",\"unloaded_barges\",\"day_end_barges\"]\n",
    "        self.config = config\n",
    "        self.time = 0\n",
    "        self.store = []\n",
    "        self.incoming_index_range = len(self.config.incoming_distr)\n",
    "        self.unloaded_index_range = len(self.config.unloading_distr)\n",
    "        i_accumulator = 0\n",
    "        u_accumulator = 0\n",
    "        for i in range(self.incoming_index_range):\n",
    "            i_accumulator += self.config.incoming_distr[i][1]\n",
    "            self.config.incoming_distr[i].append(i_accumulator)\n",
    "        for i in range(self.unloaded_index_range):\n",
    "            u_accumulator += self.config.unloading_distr[i][1]\n",
    "            self.config.unloading_distr[i].append(u_accumulator)\n",
    "        self.yesterdays = 0\n",
    "        self.incoming = 0\n",
    "        self.unloaded = 0\n",
    "    def random_gen(self):\n",
    "        for i in range(self.incoming_index_range):\n",
    "            if self.config.incoming_distr[i][2] >= next(rnd):\n",
    "                self.incoming = self.config.incoming_distr[i][0]\n",
    "                break\n",
    "        for i in range(self.unloaded_index_range):\n",
    "            if self.config.unloading_distr[i][2] >= next(rnd):\n",
    "                self.unloaded = self.config.unloading_distr[i][0]\n",
    "                break\n",
    "    def time_increment(self):\n",
    "        self.time += 1\n",
    "        self.yesterdays += self.incoming - self.unloaded\n",
    "        self.random_gen()\n",
    "        days_end_count = self.yesterdays + self.incoming - self.unloaded\n",
    "        if self.unloaded > day_end_count:\n",
    "            self.unloaded += day_end_count\n",
    "            day_end_count = 0\n",
    "        return [\n",
    "            self.yesterdays,\n",
    "            self.incoming,\n",
    "            self.unloaded,\n",
    "            day_end_count\n",
    "        ]\n",
    "    def model(self, timespan = 3650):\n",
    "        for _ in range(timespan):\n",
    "            self.store.append(self.time_increment())\n",
    "        df = pd.DataFrame(self.store, columns=self.attributes)\n",
    "        print(df)\n",
    "        return df\n",
    "\n",
    "class Object:\n",
    "    def __init__(self, **attributes):\n",
    "        self.__dict__.update(attributes)"
   ]
  },
  {
   "cell_type": "code",
   "execution_count": 7,
   "metadata": {
    "tags": []
   },
   "outputs": [
    {
     "name": "stdout",
     "output_type": "stream",
     "text": [
      "    yesterdays_barges  incoming_barges  unloaded_barges  day_end_barges\n",
      "0                   0                3                3               0\n",
      "1                   0                1                1               0\n",
      "2                   0                3                3               0\n",
      "3                   0                2                2               0\n",
      "4                   0                3                3               0\n",
      "5                   0                1                1               0\n",
      "6                   0                3                3               0\n",
      "7                   0                3                3               0\n",
      "8                   0                2                2               0\n",
      "9                   0                4                2               2\n",
      "10                  2                3                5               0\n",
      "11                  0                0                0               0\n",
      "12                  0                1                1               0\n",
      "13                  0                0                0               0\n",
      "14                  0                2                1               1\n"
     ]
    }
   ],
   "source": [
    "config = Object(\n",
    "    incoming_distr = [\n",
    "        [0, 0.13],\n",
    "        [1, 0.17],\n",
    "        [2, 0.15],\n",
    "        [3, 0.25],\n",
    "        [4, 0.2],\n",
    "        [5, 0.1]],\n",
    "    unloading_distr = [\n",
    "        [1, 0.05],\n",
    "        [2, 0.15],\n",
    "        [3, 0.5],\n",
    "        [4, 0.2],\n",
    "        [5, 0.1]])\n",
    "\n",
    "model = Model(config)\n",
    "df = model.model(15)"
   ]
  },
  {
   "cell_type": "code",
   "execution_count": 8,
   "metadata": {
    "tags": []
   },
   "outputs": [
    {
     "data": {
      "text/html": [
       "<div>\n",
       "<style scoped>\n",
       "    .dataframe tbody tr th:only-of-type {\n",
       "        vertical-align: middle;\n",
       "    }\n",
       "\n",
       "    .dataframe tbody tr th {\n",
       "        vertical-align: top;\n",
       "    }\n",
       "\n",
       "    .dataframe thead th {\n",
       "        text-align: right;\n",
       "    }\n",
       "</style>\n",
       "<table border=\"1\" class=\"dataframe\">\n",
       "  <thead>\n",
       "    <tr style=\"text-align: right;\">\n",
       "      <th></th>\n",
       "      <th>day_end_barges</th>\n",
       "    </tr>\n",
       "  </thead>\n",
       "  <tbody>\n",
       "    <tr>\n",
       "      <th>count</th>\n",
       "      <td>15.000000</td>\n",
       "    </tr>\n",
       "    <tr>\n",
       "      <th>mean</th>\n",
       "      <td>0.200000</td>\n",
       "    </tr>\n",
       "    <tr>\n",
       "      <th>std</th>\n",
       "      <td>0.560612</td>\n",
       "    </tr>\n",
       "    <tr>\n",
       "      <th>min</th>\n",
       "      <td>0.000000</td>\n",
       "    </tr>\n",
       "    <tr>\n",
       "      <th>25%</th>\n",
       "      <td>0.000000</td>\n",
       "    </tr>\n",
       "    <tr>\n",
       "      <th>50%</th>\n",
       "      <td>0.000000</td>\n",
       "    </tr>\n",
       "    <tr>\n",
       "      <th>75%</th>\n",
       "      <td>0.000000</td>\n",
       "    </tr>\n",
       "    <tr>\n",
       "      <th>max</th>\n",
       "      <td>2.000000</td>\n",
       "    </tr>\n",
       "  </tbody>\n",
       "</table>\n",
       "</div>"
      ],
      "text/plain": [
       "       day_end_barges\n",
       "count       15.000000\n",
       "mean         0.200000\n",
       "std          0.560612\n",
       "min          0.000000\n",
       "25%          0.000000\n",
       "50%          0.000000\n",
       "75%          0.000000\n",
       "max          2.000000"
      ]
     },
     "execution_count": 8,
     "metadata": {},
     "output_type": "execute_result"
    }
   ],
   "source": [
    "df[[\"day_end_barges\"]].describe()"
   ]
  },
  {
   "cell_type": "code",
   "execution_count": 9,
   "metadata": {
    "tags": []
   },
   "outputs": [
    {
     "data": {
      "text/html": [
       "<div>\n",
       "<style scoped>\n",
       "    .dataframe tbody tr th:only-of-type {\n",
       "        vertical-align: middle;\n",
       "    }\n",
       "\n",
       "    .dataframe tbody tr th {\n",
       "        vertical-align: top;\n",
       "    }\n",
       "\n",
       "    .dataframe thead th {\n",
       "        text-align: right;\n",
       "    }\n",
       "</style>\n",
       "<table border=\"1\" class=\"dataframe\">\n",
       "  <thead>\n",
       "    <tr style=\"text-align: right;\">\n",
       "      <th></th>\n",
       "      <th>incoming_barges</th>\n",
       "    </tr>\n",
       "  </thead>\n",
       "  <tbody>\n",
       "    <tr>\n",
       "      <th>count</th>\n",
       "      <td>15.000000</td>\n",
       "    </tr>\n",
       "    <tr>\n",
       "      <th>mean</th>\n",
       "      <td>2.066667</td>\n",
       "    </tr>\n",
       "    <tr>\n",
       "      <th>std</th>\n",
       "      <td>1.222799</td>\n",
       "    </tr>\n",
       "    <tr>\n",
       "      <th>min</th>\n",
       "      <td>0.000000</td>\n",
       "    </tr>\n",
       "    <tr>\n",
       "      <th>25%</th>\n",
       "      <td>1.000000</td>\n",
       "    </tr>\n",
       "    <tr>\n",
       "      <th>50%</th>\n",
       "      <td>2.000000</td>\n",
       "    </tr>\n",
       "    <tr>\n",
       "      <th>75%</th>\n",
       "      <td>3.000000</td>\n",
       "    </tr>\n",
       "    <tr>\n",
       "      <th>max</th>\n",
       "      <td>4.000000</td>\n",
       "    </tr>\n",
       "  </tbody>\n",
       "</table>\n",
       "</div>"
      ],
      "text/plain": [
       "       incoming_barges\n",
       "count        15.000000\n",
       "mean          2.066667\n",
       "std           1.222799\n",
       "min           0.000000\n",
       "25%           1.000000\n",
       "50%           2.000000\n",
       "75%           3.000000\n",
       "max           4.000000"
      ]
     },
     "execution_count": 9,
     "metadata": {},
     "output_type": "execute_result"
    }
   ],
   "source": [
    "df[[\"incoming_barges\"]].describe()"
   ]
  },
  {
   "cell_type": "code",
   "execution_count": 10,
   "metadata": {
    "tags": []
   },
   "outputs": [
    {
     "data": {
      "text/html": [
       "<div>\n",
       "<style scoped>\n",
       "    .dataframe tbody tr th:only-of-type {\n",
       "        vertical-align: middle;\n",
       "    }\n",
       "\n",
       "    .dataframe tbody tr th {\n",
       "        vertical-align: top;\n",
       "    }\n",
       "\n",
       "    .dataframe thead th {\n",
       "        text-align: right;\n",
       "    }\n",
       "</style>\n",
       "<table border=\"1\" class=\"dataframe\">\n",
       "  <thead>\n",
       "    <tr style=\"text-align: right;\">\n",
       "      <th></th>\n",
       "      <th>unloaded_barges</th>\n",
       "    </tr>\n",
       "  </thead>\n",
       "  <tbody>\n",
       "    <tr>\n",
       "      <th>count</th>\n",
       "      <td>15.00000</td>\n",
       "    </tr>\n",
       "    <tr>\n",
       "      <th>mean</th>\n",
       "      <td>2.00000</td>\n",
       "    </tr>\n",
       "    <tr>\n",
       "      <th>std</th>\n",
       "      <td>1.36277</td>\n",
       "    </tr>\n",
       "    <tr>\n",
       "      <th>min</th>\n",
       "      <td>0.00000</td>\n",
       "    </tr>\n",
       "    <tr>\n",
       "      <th>25%</th>\n",
       "      <td>1.00000</td>\n",
       "    </tr>\n",
       "    <tr>\n",
       "      <th>50%</th>\n",
       "      <td>2.00000</td>\n",
       "    </tr>\n",
       "    <tr>\n",
       "      <th>75%</th>\n",
       "      <td>3.00000</td>\n",
       "    </tr>\n",
       "    <tr>\n",
       "      <th>max</th>\n",
       "      <td>5.00000</td>\n",
       "    </tr>\n",
       "  </tbody>\n",
       "</table>\n",
       "</div>"
      ],
      "text/plain": [
       "       unloaded_barges\n",
       "count         15.00000\n",
       "mean           2.00000\n",
       "std            1.36277\n",
       "min            0.00000\n",
       "25%            1.00000\n",
       "50%            2.00000\n",
       "75%            3.00000\n",
       "max            5.00000"
      ]
     },
     "execution_count": 10,
     "metadata": {},
     "output_type": "execute_result"
    }
   ],
   "source": [
    "df[[\"unloaded_barges\"]].describe()"
   ]
  },
  {
   "cell_type": "code",
   "execution_count": null,
   "metadata": {},
   "outputs": [],
   "source": []
  }
 ],
 "metadata": {
  "kernelspec": {
   "display_name": "Python 3 (ipykernel)",
   "language": "python",
   "name": "python3"
  },
  "language_info": {
   "codemirror_mode": {
    "name": "ipython",
    "version": 3
   },
   "file_extension": ".py",
   "mimetype": "text/x-python",
   "name": "python",
   "nbconvert_exporter": "python",
   "pygments_lexer": "ipython3",
   "version": "3.11.4"
  }
 },
 "nbformat": 4,
 "nbformat_minor": 4
}
