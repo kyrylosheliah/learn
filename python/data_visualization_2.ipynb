{
 "cells": [
  {
   "cell_type": "code",
   "execution_count": 52,
   "metadata": {},
   "outputs": [],
   "source": [
    "import numpy as np\n",
    "import pandas as pd\n",
    "from sklearn import linear_model\n",
    "from sklearn import model_selection\n",
    "from sklearn import metrics\n",
    "import matplotlib.pyplot as plt\n",
    "import seaborn as sns\n",
    "%matplotlib inline\n",
    "from dataprep.eda import plot, plot_correlation\n",
    "from pycaret.classification import *"
   ]
  },
  {
   "cell_type": "code",
   "execution_count": 13,
   "metadata": {},
   "outputs": [],
   "source": [
    "df = pd.read_csv(\"./land_mines.csv\")\n",
    "# df = df[df.S == 1]\n",
    "# df = df.drop(\"S\", axis=1)\n",
    "df.info()\n",
    "df.head()"
   ]
  },
  {
   "cell_type": "code",
   "execution_count": 14,
   "metadata": {},
   "outputs": [],
   "source": [
    "soil_labels = [\"Dry and Sandy\",\n",
    "               \"Dry and Humus\",\n",
    "               \"Dry and Limy\",\n",
    "               \"Humid and Sandy\",\n",
    "               \"Humid and Humus\",\n",
    "               \"Humid and Limy\"]\n",
    "mine_labels = [\"Null\",\n",
    "               \"Anti-tank\",\n",
    "               \"Anti-personnel\",\n",
    "               \"Booby Trapped Anti-personnel\",\n",
    "               \"M14 Anti-personnel\"]\n",
    "plt.figure(figsize=(20,24))\n",
    "plot_number = 0\n",
    "for soil_type in range(1,7):\n",
    "    for mine_type in range(1,6):\n",
    "        plot_number += 1\n",
    "        plt.subplot(6, 5, plot_number)\n",
    "        plt.hist(df[df.S == soil_type][df.M == mine_type][\"V\"])\n",
    "        plt.title(mine_labels[mine_type-1])\n",
    "        plt.xlabel('V')\n",
    "        plt.ylabel(soil_labels[soil_type-1])"
   ]
  },
  {
   "cell_type": "code",
   "execution_count": 15,
   "metadata": {},
   "outputs": [],
   "source": [
    "sns.pairplot(df, hue='M')"
   ]
  },
  {
   "cell_type": "code",
   "execution_count": 16,
   "metadata": {},
   "outputs": [],
   "source": [
    "corr = df.corr()\n",
    "mask = np.zeros_like(corr)\n",
    "mask[np.triu_indices_from(mask)] = True\n",
    "with sns.axes_style(\"white\"):\n",
    "    ax = sns.heatmap(corr,\n",
    "                     mask=mask,\n",
    "                     square=True,\n",
    "                     cbar=False,\n",
    "                     annot=True,\n",
    "                     linewidths=.5)"
   ]
  },
  {
   "cell_type": "code",
   "execution_count": 17,
   "metadata": {},
   "outputs": [],
   "source": [
    "from scipy import stats\n",
    "fit_output = stats.linregress(df[['V', 'H']])\n",
    "slope, intercept, r_value, p_value, slope_std_error = fit_output\n",
    "print(slope, intercept, r_value, p_value, slope_std_error)"
   ]
  },
  {
   "cell_type": "code",
   "execution_count": 18,
   "metadata": {},
   "outputs": [],
   "source": [
    "train_data, test_data, train_labels, test_labels = model_selection.train_test_split(\n",
    "    df.drop([\"M\"], axis=1),\n",
    "    df['M'],\n",
    "    test_size=0.3,\n",
    "    random_state=0)\n",
    "print(train_data)\n",
    "print(test_data)\n",
    "print(train_labels)\n",
    "print(test_labels)"
   ]
  },
  {
   "cell_type": "code",
   "execution_count": 21,
   "metadata": {},
   "outputs": [],
   "source": [
    "model = linear_model.SGDClassifier(alpha=0.001, max_iter=100, random_state=0)\n",
    "model.fit(train_data, train_labels)\n",
    "model_predictions= model.predict(test_data)\n",
    "print(metrics.accuracy_score(test_labels, model_predictions))\n",
    "print(metrics.classification_report(test_labels, model_predictions))"
   ]
  },
  {
   "cell_type": "code",
   "execution_count": 22,
   "metadata": {},
   "outputs": [],
   "source": [
    "scores = model_selection.cross_val_score(model, train_data, train_labels, cv=6)\n",
    "print(scores.mean())"
   ]
  },
  {
   "cell_type": "code",
   "execution_count": 41,
   "metadata": {},
   "outputs": [],
   "source": [
    "parameters_grid = {\n",
    "    'max_iter': range(90,100),\n",
    "    'alpha': np.linspace(0.0001, 0.001, num=10),\n",
    "}\n",
    "classifier = linear_model.SGDClassifier(random_state=0)\n",
    "cv = model_selection.StratifiedShuffleSplit(n_splits=5, test_size=0.3, random_state=0) #train_labels\n",
    "grid_cv = model_selection.GridSearchCV(classifier, parameters_grid, scoring='accuracy', cv=cv)\n",
    "grid_cv.fit(train_data, train_labels)\n",
    "print(grid_cv.best_estimator_)"
   ]
  },
  {
   "cell_type": "code",
   "execution_count": 43,
   "metadata": {},
   "outputs": [],
   "source": [
    "classifier = linear_model.SGDClassifier(alpha=0.0079999999, max_iter=96, random_state=0)\n",
    "model.fit(train_data, train_labels)\n",
    "model_predictions= model.predict(test_data)\n",
    "print(metrics.accuracy_score(test_labels, model_predictions))\n",
    "print(metrics.classification_report(test_labels, model_predictions))\n",
    "scores = model_selection.cross_val_score(model, train_data, train_labels, cv=10)\n",
    "print(scores.mean())"
   ]
  },
  {
   "cell_type": "code",
   "execution_count": 45,
   "metadata": {},
   "outputs": [],
   "source": [
    "sns.countplot(x=df.M)"
   ]
  },
  {
   "cell_type": "code",
   "execution_count": 46,
   "metadata": {},
   "outputs": [],
   "source": [
    "plot_correlation(df, 'H', 'V')"
   ]
  },
  {
   "cell_type": "code",
   "execution_count": 47,
   "metadata": {},
   "outputs": [],
   "source": [
    "plot_correlation(df, 'V', 'S')"
   ]
  },
  {
   "cell_type": "code",
   "execution_count": 48,
   "metadata": {},
   "outputs": [],
   "source": [
    "plot(df, 'M', 'V')"
   ]
  },
  {
   "cell_type": "code",
   "execution_count": 49,
   "metadata": {},
   "outputs": [],
   "source": [
    "plot(df, 'M', 'H')"
   ]
  },
  {
   "cell_type": "code",
   "execution_count": 50,
   "metadata": {},
   "outputs": [],
   "source": [
    "plot(df, 'M','S')"
   ]
  },
  {
   "cell_type": "code",
   "execution_count": 51,
   "metadata": {},
   "outputs": [],
   "source": [
    "df.hist(figsize=(8,7))"
   ]
  },
  {
   "cell_type": "code",
   "execution_count": 53,
   "metadata": {},
   "outputs": [],
   "source": [
    "s = setup(df, target='M', session_id=123)"
   ]
  },
  {
   "cell_type": "code",
   "execution_count": 54,
   "metadata": {},
   "outputs": [],
   "source": [
    "best = compare_models()"
   ]
  },
  {
   "cell_type": "code",
   "execution_count": 55,
   "metadata": {},
   "outputs": [],
   "source": [
    "# evaluate_model(best)\n",
    "plot_model(best, plot='feature')"
   ]
  },
  {
   "cell_type": "code",
   "execution_count": 56,
   "metadata": {},
   "outputs": [],
   "source": [
    "plot_model(best, plot = 'auc')"
   ]
  },
  {
   "cell_type": "code",
   "execution_count": 57,
   "metadata": {},
   "outputs": [],
   "source": [
    "plot_model(best, plot = 'confusion_matrix')"
   ]
  },
  {
   "cell_type": "code",
   "execution_count": 58,
   "metadata": {},
   "outputs": [],
   "source": [
    "plot_model(best, plot='class_report')"
   ]
  },
  {
   "cell_type": "code",
   "execution_count": 59,
   "metadata": {},
   "outputs": [],
   "source": [
    "predict_model(best)"
   ]
  },
  {
   "cell_type": "code",
   "execution_count": 60,
   "metadata": {},
   "outputs": [],
   "source": [
    "predictions = predict_model(best, data=df, raw_score=True)\n",
    "predictions.head()"
   ]
  },
  {
   "cell_type": "code",
   "execution_count": 61,
   "metadata": {},
   "outputs": [],
   "source": [
    "predictions.query('M == prediction_label')"
   ]
  },
  {
   "cell_type": "code",
   "execution_count": 63,
   "metadata": {},
   "outputs": [],
   "source": [
    "save_model(best, 'best_pipeline')"
   ]
  },
  {
   "cell_type": "code",
   "execution_count": 64,
   "metadata": {},
   "outputs": [],
   "source": [
    "loaded_model = load_model('best_pipeline')\n",
    "print(loaded_model)"
   ]
  },
  {
   "cell_type": "code",
   "execution_count": null,
   "metadata": {},
   "outputs": [],
   "source": []
  }
 ],
 "metadata": {
  "kernelspec": {
   "display_name": "Python 3 (ipykernel)",
   "language": "python",
   "name": "python3"
  },
  "orig_nbformat": 4
 },
 "nbformat": 4,
 "nbformat_minor": 2
}
