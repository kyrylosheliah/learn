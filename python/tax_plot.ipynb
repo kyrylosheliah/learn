{
 "cells": [
  {
   "cell_type": "code",
   "execution_count": 1,
   "id": "8086ffe4-9e60-4fac-a4a9-9a7ecf1ecd9e",
   "metadata": {
    "tags": []
   },
   "outputs": [],
   "source": [
    "import math\n",
    "import numpy as np\n",
    "import matplotlib.pyplot as plt\n",
    "from ipywidgets import interact"
   ]
  },
  {
   "cell_type": "code",
   "execution_count": 3,
   "id": "5e8a3f0a-b06c-4e63-b3d2-456ae51f7836",
   "metadata": {
    "tags": []
   },
   "outputs": [],
   "source": [
    "def interactive_plot(start_capital, profitability, tax_rate, time, scale):\n",
    "    budget = 0\n",
    "    capital = start_capital\n",
    "    t = np.linspace(0, time, time)\n",
    "    data1 = []\n",
    "    data2 = []\n",
    "    for i in range(time):\n",
    "        growth = capital * profitability\n",
    "        taxes = growth * tax_rate\n",
    "        revenue = growth - taxes\n",
    "        budget += taxes\n",
    "        capital += revenue\n",
    "        data1.append(budget)\n",
    "        data2.append(capital)\n",
    "    plt.figure(figsize=(8, 8))\n",
    "    if scale:\n",
    "        plt.plot(t, data1, label=\"budget\", color='tab:red')\n",
    "        plt.plot(t, data2, label=\"capital\", color='tab:blue')\n",
    "        plt.plot()\n",
    "        plt.xlabel('time')\n",
    "        plt.ylabel('money')\n",
    "        plt.legend()\n",
    "    else:\n",
    "        fig, ax1 = plt.subplots()\n",
    "        color = 'tab:red'\n",
    "        ax1.set_xlabel('time (s)')\n",
    "        ax1.set_ylabel('budget', color=color)\n",
    "        ax1.plot(t, data1, color=color)\n",
    "        ax1.tick_params(axis='y', labelcolor=color)\n",
    "        ax2 = ax1.twinx()\n",
    "        color = 'tab:blue'\n",
    "        ax2.set_ylabel('capital', color=color)\n",
    "        ax2.plot(t, data2, color=color)\n",
    "        ax2.tick_params(axis='y', labelcolor=color)\n",
    "        #fig.tight_layout()\n",
    "    plt.title('Interactive')\n",
    "    plt.show()"
   ]
  },
  {
   "cell_type": "code",
   "execution_count": 4,
   "id": "d4fc6b71-ea7a-45f3-95d7-6b81ccf524e5",
   "metadata": {
    "tags": []
   },
   "outputs": [
    {
     "data": {
      "application/vnd.jupyter.widget-view+json": {
       "model_id": "9b4fc82669e84562aef8b8349d8fc689",
       "version_major": 2,
       "version_minor": 0
      },
      "text/plain": [
       "interactive(children=(IntSlider(value=25, description='start_capital', max=50), FloatSlider(value=0.4, descrip…"
      ]
     },
     "metadata": {},
     "output_type": "display_data"
    },
    {
     "data": {
      "text/plain": [
       "<function __main__.interactive_plot(start_capital, profitability, tax_rate, time, scale)>"
      ]
     },
     "execution_count": 4,
     "metadata": {},
     "output_type": "execute_result"
    }
   ],
   "source": [
    "interact(\n",
    "    interactive_plot,\n",
    "    start_capital=(0, 50, 1),\n",
    "    profitability=(0.2, 0.8, 0.1),\n",
    "    tax_rate=(0, 1, 0.1),\n",
    "    time=(1, 50, 1),\n",
    "    scale=(0, 1, 1)\n",
    ")"
   ]
  },
  {
   "cell_type": "code",
   "execution_count": null,
   "id": "d00ad2f8",
   "metadata": {},
   "outputs": [],
   "source": []
  }
 ],
 "metadata": {
  "kernelspec": {
   "display_name": "Python 3 (ipykernel)",
   "language": "python",
   "name": "python3"
  },
  "language_info": {
   "codemirror_mode": {
    "name": "ipython",
    "version": 3
   },
   "file_extension": ".py",
   "mimetype": "text/x-python",
   "name": "python",
   "nbconvert_exporter": "python",
   "pygments_lexer": "ipython3",
   "version": "3.11.4"
  }
 },
 "nbformat": 4,
 "nbformat_minor": 5
}
