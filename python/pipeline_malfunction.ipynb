{
 "cells": [
  {
   "cell_type": "code",
   "execution_count": 1,
   "id": "1e5a865c",
   "metadata": {},
   "outputs": [],
   "source": [
    "import graphviz\n",
    "import ipywidgets as widgets\n",
    "from IPython.display import display\n",
    "import random\n",
    "from datetime import datetime"
   ]
  },
  {
   "cell_type": "code",
   "execution_count": 2,
   "id": "c91b3d92",
   "metadata": {},
   "outputs": [],
   "source": [
    "class IDevice():\n",
    "    def state_regen(self): pass\n",
    "    def broken(self) -> bool: pass\n",
    "\n",
    "class Device(IDevice):\n",
    "    def __init__(self, breakdown_probability):\n",
    "        self.breakdown_probability = breakdown_probability\n",
    "        self.type = 'Device'\n",
    "    def state_regen(self):\n",
    "        random.seed(datetime.now().timestamp())\n",
    "        self.number = random.random()\n",
    "        self.isBroken = self.number < self.breakdown_probability\n",
    "    def broken(self):\n",
    "        return self.isBroken\n",
    "\n",
    "class Parallel(IDevice):\n",
    "    def __init__(self, config):\n",
    "        self.parallel = config\n",
    "        self.type = \"Parallel\"\n",
    "    def state_regen(self):\n",
    "        for device in self.parallel:\n",
    "            device.state_regen()\n",
    "    def broken(self) -> bool:\n",
    "        for device in self.parallel:\n",
    "            if not device.broken():\n",
    "                return False\n",
    "        return True\n",
    "\n",
    "class Pipeline(IDevice):\n",
    "    def __init__(self, config):\n",
    "        self.pipeline = config\n",
    "        self.type = \"Pipeline\"\n",
    "    def state_regen(self):\n",
    "        for device in self.pipeline:\n",
    "            device.state_regen()\n",
    "    def broken(self):\n",
    "        for device in self.pipeline:\n",
    "            if device.broken():\n",
    "                return True\n",
    "        return False\n",
    "    def Render(self, device = None, indent=0, prop=\"breakdown_probability\"):\n",
    "        if device is None:\n",
    "            device = self\n",
    "        tab = indent*\"\\t\"\n",
    "        match(device.type):\n",
    "            case \"Device\":\n",
    "                print(f\"{tab}Device {getattr(device, prop)},\")\n",
    "            case \"Pipeline\":\n",
    "                print(f\"{tab}\"+\"{\")\n",
    "                for item in device.pipeline:\n",
    "                    self.Render(item, indent + 1, prop)\n",
    "                print(f\"{tab}\" + \"},\")\n",
    "            case \"Parallel\":\n",
    "                print(f\"{tab}[\")\n",
    "                for item in device.parallel:\n",
    "                    self.Render(item, indent + 1, prop)\n",
    "                print(f\"{tab}],\")\n",
    "            case _:\n",
    "                print(device.type)"
   ]
  },
  {
   "cell_type": "code",
   "execution_count": 7,
   "id": "d138efe9",
   "metadata": {},
   "outputs": [],
   "source": [
    "pipeline = Pipeline([\n",
    "    Device(0.22),\n",
    "    Parallel([\n",
    "        Pipeline([\n",
    "            Device(0.06),\n",
    "            Parallel([\n",
    "                Device(0.11),\n",
    "                Device(0.11)\n",
    "            ])\n",
    "        ]),\n",
    "        Device(0.18)\n",
    "    ]),\n",
    "    Device(0.21)\n",
    "])"
   ]
  },
  {
   "cell_type": "code",
   "execution_count": 5,
   "id": "d13853ee",
   "metadata": {},
   "outputs": [
    {
     "name": "stdout",
     "output_type": "stream",
     "text": [
      "{\n",
      "\tDevice 0.22,\n",
      "\t[\n",
      "\t\t{\n",
      "\t\t\tDevice 0.06,\n",
      "\t\t\t[\n",
      "\t\t\t\tDevice 0.11,\n",
      "\t\t\t\tDevice 0.11,\n",
      "\t\t\t],\n",
      "\t\t},\n",
      "\t\tDevice 0.18,\n",
      "\t],\n",
      "\tDevice 0.21,\n",
      "},\n"
     ]
    }
   ],
   "source": [
    "pipeline.Render(pipeline, 0)"
   ]
  },
  {
   "cell_type": "code",
   "execution_count": 13,
   "id": "2bc627d7",
   "metadata": {},
   "outputs": [
    {
     "data": {
      "text/plain": [
       "True"
      ]
     },
     "execution_count": 13,
     "metadata": {},
     "output_type": "execute_result"
    }
   ],
   "source": [
    "pipeline.state_regen()\n",
    "pipeline.broken()"
   ]
  },
  {
   "cell_type": "code",
   "execution_count": 10,
   "id": "497db0f5",
   "metadata": {},
   "outputs": [
    {
     "name": "stdout",
     "output_type": "stream",
     "text": [
      "{\n",
      "\tDevice False,\n",
      "\t[\n",
      "\t\t{\n",
      "\t\t\tDevice False,\n",
      "\t\t\t[\n",
      "\t\t\t\tDevice False,\n",
      "\t\t\t\tDevice False,\n",
      "\t\t\t],\n",
      "\t\t},\n",
      "\t\tDevice False,\n",
      "\t],\n",
      "\tDevice False,\n",
      "},\n"
     ]
    }
   ],
   "source": [
    "pipeline.Render(pipeline, 0, \"isBroken\")"
   ]
  },
  {
   "cell_type": "code",
   "execution_count": 319,
   "id": "00c7b007",
   "metadata": {},
   "outputs": [
    {
     "name": "stdout",
     "output_type": "stream",
     "text": [
      "{\n",
      "\tDevice 0.7003977277317958,\n",
      "\t[\n",
      "\t\t{\n",
      "\t\t\tDevice 0.7003977277317958,\n",
      "\t\t\t[\n",
      "\t\t\t\tDevice 0.7003977277317958,\n",
      "\t\t\t\tDevice 0.7003977277317958,\n",
      "\t\t\t],\n",
      "\t\t},\n",
      "\t\tDevice 0.7003977277317958,\n",
      "\t],\n",
      "\tDevice 0.7003977277317958,\n",
      "},\n"
     ]
    }
   ],
   "source": [
    "pipeline.Render(pipeline, 0, \"number\")"
   ]
  },
  {
   "cell_type": "code",
   "execution_count": 14,
   "id": "14e6c741",
   "metadata": {},
   "outputs": [
    {
     "name": "stdout",
     "output_type": "stream",
     "text": [
      "broken 2445 times\n",
      "with 24.45% probability to break\n",
      "and with 75.55000000000001% probability to live\n"
     ]
    }
   ],
   "source": [
    "n = 10000\n",
    "k = 0\n",
    "for i in range(n):\n",
    "    pipeline.state_regen()\n",
    "    k += pipeline.broken()\n",
    "print(f\"broken {k} times\")\n",
    "print(f\"with {k/n*100}% probability to break\")\n",
    "print(f\"and with {(1-k/n)*100}% probability to live\")"
   ]
  },
  {
   "cell_type": "code",
   "execution_count": null,
   "id": "5f094cfc",
   "metadata": {},
   "outputs": [],
   "source": []
  }
 ],
 "metadata": {
  "kernelspec": {
   "display_name": "Python 3 (ipykernel)",
   "language": "python",
   "name": "python3"
  },
  "language_info": {
   "codemirror_mode": {
    "name": "ipython",
    "version": 3
   },
   "file_extension": ".py",
   "mimetype": "text/x-python",
   "name": "python",
   "nbconvert_exporter": "python",
   "pygments_lexer": "ipython3",
   "version": "3.11.4"
  }
 },
 "nbformat": 4,
 "nbformat_minor": 5
}
