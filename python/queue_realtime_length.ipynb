{
 "cells": [
  {
   "cell_type": "code",
   "execution_count": 15,
   "id": "ce52dc4d-2ab8-4254-8100-c155c739c0de",
   "metadata": {
    "tags": []
   },
   "outputs": [],
   "source": [
    "from datetime import datetime, time, timedelta\n",
    "import math\n",
    "import random\n",
    "random.seed(datetime.now().timestamp())\n",
    "import pandas as pd\n",
    "pd.set_option('display.width', 1000)\n",
    "import matplotlib.pyplot as plt"
   ]
  },
  {
   "cell_type": "code",
   "execution_count": 16,
   "id": "7342f96c-d6db-4859-976f-48b81d189b19",
   "metadata": {
    "tags": []
   },
   "outputs": [],
   "source": [
    "def random_roll():\n",
    "    last_time = datetime.now().timestamp()\n",
    "    while True:\n",
    "        time_now = datetime.now().timestamp()\n",
    "        if last_time != time_now:\n",
    "            random.seed(time_now)\n",
    "            last_time = time_now\n",
    "        else:\n",
    "            random.seed(random.random())\n",
    "        yield random.random()\n",
    "rnd = random_roll()\n",
    "\n",
    "class Model:\n",
    "    def __init__(self, config):\n",
    "        self.attributes = [\"arrival_time\",\"service_span\",\"service_start\",\"system_wait\",\"queue_span\",\"elimination_time\",\"eliminated\",\"queue_length\"]\n",
    "        self.config = config\n",
    "        i_accumulator = 0\n",
    "        for i in range(len(self.config.incoming_distr)):\n",
    "            i_accumulator += self.config.incoming_distr[i][1]\n",
    "            self.config.incoming_distr[i].append(i_accumulator)\n",
    "        self.counter = 0\n",
    "        self.store = []\n",
    "        self.queue = []\n",
    "        self.arrival_time = 0\n",
    "    def random_gen(self):\n",
    "        for i in range(len(self.config.incoming_distr)):\n",
    "            if self.config.incoming_distr[i][2] >= next(rnd):\n",
    "                self.arrival_time += self.config.incoming_distr[i][0][0] + next(rnd) * self.config.incoming_distr[i][0][1]\n",
    "                break\n",
    "        self.service_span = self.config.service_span_from + self.config.service_span_range * next(rnd)\n",
    "        self.queue_span = self.config.queue_span_from + self.config.queue_span_range * next(rnd)\n",
    "    def time_increment(self):\n",
    "        self.counter += 1\n",
    "        self.random_gen()\n",
    "        service_start = self.arrival_time + self.queue_span\n",
    "        system_wait_span = self.service_span + self.queue_span\n",
    "        eliminated = \"\"\n",
    "        eliminated_list = []\n",
    "        for i in self.queue:\n",
    "            if i[1] < self.arrival_time:\n",
    "                eliminated_list.append(i)\n",
    "                eliminated += f'{i[0]} '\n",
    "            else:\n",
    "                break\n",
    "        for i in eliminated_list:\n",
    "            self.queue.remove(i)\n",
    "        elimination_time = self.arrival_time + system_wait_span\n",
    "        self.queue.append([self.counter, elimination_time])\n",
    "        return [\n",
    "            self.arrival_time,\n",
    "            self.service_span,\n",
    "            service_start,\n",
    "            system_wait_span,\n",
    "            self.queue_span,\n",
    "            elimination_time,\n",
    "            eliminated,\n",
    "            len(self.queue)-1]\n",
    "    def model(self, timespan = 3650):\n",
    "        for _ in range(timespan):\n",
    "            self.store.append(self.time_increment())\n",
    "        df = pd.DataFrame(self.store, columns=self.attributes)\n",
    "        print(df)\n",
    "        return df\n",
    "\n",
    "class Object:\n",
    "    def __init__(self, **attributes):\n",
    "        self.__dict__.update(attributes)"
   ]
  },
  {
   "cell_type": "code",
   "execution_count": 17,
   "id": "e5289caa-4b3e-44be-9f42-73fba41e1e36",
   "metadata": {
    "tags": []
   },
   "outputs": [
    {
     "name": "stdout",
     "output_type": "stream",
     "text": [
      "    arrival_time  service_span  service_start  system_wait  queue_span  elimination_time eliminated  queue_length\n",
      "0      28.669473      1.171137      35.237453     7.739117    6.567981         36.408590                        0\n",
      "1      30.127682      6.622553      33.311287     9.806158    3.183605         39.933840                        1\n",
      "2      36.209071      4.683201      40.149939     8.624068    3.940868         44.833140                        2\n",
      "3      42.478020      5.486449      50.527978    13.536406    8.049958         56.014427       1 2              1\n",
      "4      57.654564      8.859019      62.554733    13.759189    4.900169         71.413753       3 4              0\n",
      "5      87.042293      6.035690      95.093646    14.087043    8.051354        101.129336         5              0\n",
      "6     112.296846      4.250635     121.108316    13.062105    8.811470        125.358951         6              0\n",
      "7     140.697582      2.334706     151.681741    13.318865   10.984159        154.016446         7              0\n",
      "8     147.864186      3.191075     151.689472     7.016361    3.825287        154.880547                        1\n",
      "9     170.122213      4.668595     181.029955    15.576337   10.907743        185.698550       8 9              0\n",
      "10    194.332544      4.597302     204.525273    14.790031   10.192729        209.122575        10              0\n",
      "11    209.950389      2.884025     215.967362     8.900999    6.016973        218.851387        11              0\n",
      "12    253.338251      2.069737     263.212609    11.944094    9.874357        265.282345        12              0\n",
      "13    264.547470      7.054775     269.937588    12.444893    5.390118        276.992363                        1\n",
      "14    276.865618      2.115262     287.849459    13.099103   10.983841        289.964721        13              1\n"
     ]
    }
   ],
   "source": [
    "config = Object(\n",
    "    incoming_distr = [\n",
    "        [[1,1], 0.05],\n",
    "        [[2,10], 0.2],\n",
    "        [[11,20], 0.2],\n",
    "        [[21,30], 0.3],\n",
    "        [[31,40], 0.1],\n",
    "        [[40,60], 0.15]],\n",
    "    queue_count = 1,\n",
    "    queue_span_from = 1,\n",
    "    queue_span_range = 10,\n",
    "    service_span_from = 1,\n",
    "    service_span_range = 8,\n",
    "    start_hour = 8)\n",
    "\n",
    "model = Model(config)\n",
    "df = model.model(15)"
   ]
  },
  {
   "cell_type": "code",
   "execution_count": 18,
   "id": "28dfcca5-3cf2-4ff0-9dd0-0823da6dec8e",
   "metadata": {
    "tags": []
   },
   "outputs": [
    {
     "data": {
      "text/plain": [
       "0           NaN\n",
       "1      1.458210\n",
       "2      6.081389\n",
       "3      6.268949\n",
       "4     15.176544\n",
       "5     29.387729\n",
       "6     25.254554\n",
       "7     28.400735\n",
       "8      7.166604\n",
       "9     22.258027\n",
       "10    24.210332\n",
       "11    15.617844\n",
       "12    43.387862\n",
       "13    11.209219\n",
       "14    12.318148\n",
       "Name: arrival_time, dtype: float64"
      ]
     },
     "execution_count": 18,
     "metadata": {},
     "output_type": "execute_result"
    }
   ],
   "source": [
    "df[\"arrival_time\"].diff()"
   ]
  },
  {
   "cell_type": "code",
   "execution_count": 19,
   "id": "18beaeea-589f-4072-aedf-e44b7e33e693",
   "metadata": {
    "tags": []
   },
   "outputs": [],
   "source": [
    "def to_time(minutes, start=datetime(2024, 3, 30, 8)):\n",
    "    timestamp_minutes = math.floor(minutes)\n",
    "    timestamp_seconds = math.floor((minutes - timestamp_minutes) * 60)\n",
    "    timestamp = start + timedelta(minutes=timestamp_minutes, seconds=timestamp_seconds)\n",
    "    return timestamp\n",
    "\n",
    "time_update = lambda x: to_time(x).strftime('%H:%M:%S')\n",
    "df[\"arrival_time\"] = df[\"arrival_time\"].apply(time_update)\n",
    "df[\"service_start\"] = df[\"service_start\"].apply(time_update)\n",
    "df[\"elimination_time\"] = df[\"elimination_time\"].apply(time_update)"
   ]
  },
  {
   "cell_type": "code",
   "execution_count": 13,
   "id": "1f79b1a7-4437-4008-8b6a-cbc08702732d",
   "metadata": {
    "tags": []
   },
   "outputs": [
    {
     "name": "stdout",
     "output_type": "stream",
     "text": [
      "   arrival_time  service_span service_start  system_wait  queue_span elimination_time eliminated  queue_length\n",
      "0      08:25:51      3.049780      08:28:19     5.514122    2.464342         08:31:22                        0\n",
      "1      09:30:40      5.921409      09:31:45     7.000048    1.078639         09:37:40         1              0\n",
      "2      10:01:19      5.326318      10:06:43    10.731274    5.404957         10:12:03         2              0\n",
      "3      10:23:11      1.436206      10:27:38     5.886641    4.450435         10:29:04         3              0\n",
      "4      10:48:08      5.138417      10:49:26     6.439481    1.301064         10:54:35         4              0\n",
      "5      10:49:15      6.623766      10:58:07    15.485128    8.861361         11:04:44                        1\n",
      "6      11:20:42      6.353883      11:27:15    12.908337    6.554455         11:33:36       5 6              0\n",
      "7      11:30:23      3.730776      11:34:48     8.147900    4.417125         11:38:32                        1\n",
      "8      12:06:31      7.068229      12:13:02    13.576747    6.508518         12:20:06       7 8              0\n",
      "9      12:32:44      3.539931      12:40:32    11.340911    7.800980         12:44:05         9              0\n",
      "10     13:15:11      2.169035      13:18:50     5.832032    3.662997         13:21:01        10              0\n",
      "11     13:16:16      5.934062      13:27:02    16.708613   10.774551         13:32:58                        1\n",
      "12     14:05:49      1.977876      14:13:51    10.005470    8.027594         14:15:50     11 12              0\n",
      "13     14:35:02      7.324875      14:43:00    15.287092    7.962217         14:50:20        13              0\n",
      "14     14:55:56      3.754752      14:57:57     5.771857    2.017105         15:01:42        14              0\n"
     ]
    }
   ],
   "source": [
    "print(df)"
   ]
  },
  {
   "cell_type": "code",
   "execution_count": null,
   "id": "bfcb1c72-3f6d-421e-ba7a-2a62e87f3d37",
   "metadata": {},
   "outputs": [],
   "source": []
  }
 ],
 "metadata": {
  "kernelspec": {
   "display_name": "Python 3 (ipykernel)",
   "language": "python",
   "name": "python3"
  },
  "language_info": {
   "codemirror_mode": {
    "name": "ipython",
    "version": 3
   },
   "file_extension": ".py",
   "mimetype": "text/x-python",
   "name": "python",
   "nbconvert_exporter": "python",
   "pygments_lexer": "ipython3",
   "version": "3.11.4"
  }
 },
 "nbformat": 4,
 "nbformat_minor": 5
}
