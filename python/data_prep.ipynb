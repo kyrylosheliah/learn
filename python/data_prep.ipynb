{
 "cells": [
  {
   "cell_type": "code",
   "execution_count": null,
   "id": "be40068a-f533-41aa-835a-725f56345d3f",
   "metadata": {},
   "outputs": [],
   "source": [
    "%reset -f"
   ]
  },
  {
   "cell_type": "code",
   "execution_count": 19,
   "id": "de978cd6-cdca-4a5b-b11c-c0915a0883d3",
   "metadata": {
    "tags": []
   },
   "outputs": [],
   "source": [
    "import pandas as pd\n",
    "df = pd.read_csv(\"./land_mines.csv\")"
   ]
  },
  {
   "cell_type": "code",
   "execution_count": null,
   "id": "d34ceaf0-1c0c-4356-9f01-145f087abd1f",
   "metadata": {
    "tags": []
   },
   "outputs": [],
   "source": [
    "df"
   ]
  },
  {
   "cell_type": "code",
   "execution_count": null,
   "id": "ee395665-4abe-4ef3-94b8-8b152b6c1235",
   "metadata": {
    "tags": []
   },
   "outputs": [],
   "source": [
    "df.info()"
   ]
  },
  {
   "cell_type": "code",
   "execution_count": null,
   "id": "011169f1-8e5d-40f1-9a8b-6c44b92b94fa",
   "metadata": {
    "tags": []
   },
   "outputs": [],
   "source": [
    "df.plot()"
   ]
  },
  {
   "cell_type": "code",
   "execution_count": null,
   "id": "9c241ed9-d523-4bfd-b014-bf7d70b6fb71",
   "metadata": {
    "tags": []
   },
   "outputs": [],
   "source": [
    "df[df[\"M\"] == 1].plot()"
   ]
  },
  {
   "cell_type": "code",
   "execution_count": null,
   "id": "dc0e609a-9f9a-4e6e-9b9e-0af839a8f79d",
   "metadata": {
    "tags": []
   },
   "outputs": [],
   "source": [
    "dfk = df[df[\"M\"] == 1][[\"V\", \"H\"]]\n",
    "dfk.head()"
   ]
  },
  {
   "cell_type": "code",
   "execution_count": null,
   "id": "623d6649-299c-4f93-837d-35347a6928c6",
   "metadata": {
    "tags": []
   },
   "outputs": [],
   "source": [
    "dfk.plot()"
   ]
  },
  {
   "cell_type": "code",
   "execution_count": null,
   "id": "9a41ea77-5fcd-4df0-96e7-d9d696967939",
   "metadata": {
    "tags": []
   },
   "outputs": [],
   "source": [
    "dfk.dropna()"
   ]
  },
  {
   "cell_type": "code",
   "execution_count": null,
   "id": "0c8b4767-5900-46ac-9d28-3c6edea3c980",
   "metadata": {
    "tags": []
   },
   "outputs": [],
   "source": [
    "dfk.interpolate().plot()"
   ]
  },
  {
   "cell_type": "code",
   "execution_count": null,
   "id": "c8937d85-388d-4368-a8e2-d8a188f2fb11",
   "metadata": {
    "tags": []
   },
   "outputs": [],
   "source": [
    "rdf = df.groupby(\"V\")[\"M\"].median()\n",
    "rdf.plot()"
   ]
  },
  {
   "cell_type": "code",
   "execution_count": null,
   "id": "9a766952-43dc-4aab-9522-a9169366508c",
   "metadata": {
    "tags": []
   },
   "outputs": [],
   "source": [
    "rdf"
   ]
  },
  {
   "cell_type": "code",
   "execution_count": null,
   "id": "f4e6019f-0452-4e85-9930-512fb7397975",
   "metadata": {
    "tags": []
   },
   "outputs": [],
   "source": [
    "import matplotlib.pyplot as plt\n",
    "import numpy as np\n",
    "x = rdf.index\n",
    "y = rdf.values\n",
    "a1 = np.polyfit(x, y, 1)\n",
    "a1\n",
    "f1 = np.poly1d(a1)\n",
    "f1(2050)\n",
    "rdf.plot()\n",
    "plt.plot(x, f1(x))"
   ]
  },
  {
   "cell_type": "code",
   "execution_count": null,
   "id": "5897beb6-f820-4786-8d15-d50f17c536c4",
   "metadata": {
    "tags": []
   },
   "outputs": [],
   "source": [
    "a2=np.polyfit(x,y,2)\n",
    "f2=np.poly1d(a2)\n",
    "rdf.plot()\n",
    "plt.plot(x,f2(x))"
   ]
  },
  {
   "cell_type": "code",
   "execution_count": null,
   "id": "2502f167-a30c-4f2d-b67c-a58535e4c7a1",
   "metadata": {
    "tags": []
   },
   "outputs": [],
   "source": [
    "a3=np.polyfit(x,y,3)\n",
    "f3=np.poly1d(a3)\n",
    "rdf.plot()\n",
    "plt.plot(x,f3(x))"
   ]
  },
  {
   "cell_type": "code",
   "execution_count": null,
   "id": "b03fbb17-04ba-425c-b69b-249f8f8a0eba",
   "metadata": {
    "tags": []
   },
   "outputs": [],
   "source": [
    "a50=np.polyfit(x,y,50)\n",
    "f50=np.poly1d(a50)\n",
    "rdf.plot()\n",
    "plt.plot(x,f50(x))"
   ]
  },
  {
   "cell_type": "code",
   "execution_count": null,
   "id": "f5726bbc-1398-4038-a639-588b70a1d6b2",
   "metadata": {
    "tags": []
   },
   "outputs": [],
   "source": [
    "import seaborn as sns\n",
    "sns.heatmap(df.corr(), annot=True)"
   ]
  },
  {
   "cell_type": "code",
   "execution_count": null,
   "id": "cb2999d6-4f95-45e6-9bea-e264a2b6305e",
   "metadata": {
    "tags": []
   },
   "outputs": [],
   "source": [
    "sns.pairplot(df)"
   ]
  },
  {
   "cell_type": "code",
   "execution_count": null,
   "id": "140869d3-7398-41b2-8a59-3570280f23b6",
   "metadata": {
    "tags": []
   },
   "outputs": [],
   "source": [
    "df.hist()"
   ]
  },
  {
   "cell_type": "code",
   "execution_count": null,
   "id": "a33548a1-5df4-4748-9494-06a7633886da",
   "metadata": {},
   "outputs": [],
   "source": [
    "df_normalized = df.copy()\n",
    "for column in df_normalized.columns:\n",
    "    df_normalized[column] = df_normalized[column] / df_normalized[column].abs().max()\n",
    "df_normalized.plot()"
   ]
  },
  {
   "cell_type": "code",
   "execution_count": null,
   "id": "005a4cbf-f982-4055-b738-6bd1e98a93ce",
   "metadata": {},
   "outputs": [],
   "source": []
  }
 ],
 "metadata": {
  "kernelspec": {
   "display_name": "Python 3 (ipykernel)",
   "language": "python",
   "name": "python3"
  },
  "language_info": {
   "codemirror_mode": {
    "name": "ipython",
    "version": 3
   },
   "file_extension": ".py",
   "mimetype": "text/x-python",
   "name": "python",
   "nbconvert_exporter": "python",
   "pygments_lexer": "ipython3",
   "version": "3.11.4"
  }
 },
 "nbformat": 4,
 "nbformat_minor": 5
}
